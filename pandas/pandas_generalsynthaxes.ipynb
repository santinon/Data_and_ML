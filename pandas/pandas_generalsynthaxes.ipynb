{
 "cells": [
  {
   "cell_type": "markdown",
   "metadata": {},
   "source": [
    "# 1 Creating, reading & writing"
   ]
  },
  {
   "cell_type": "code",
   "execution_count": 1,
   "metadata": {},
   "outputs": [],
   "source": [
    "import pandas as pd"
   ]
  },
  {
   "cell_type": "markdown",
   "metadata": {},
   "source": [
    "## DataFrame"
   ]
  },
  {
   "cell_type": "code",
   "execution_count": 2,
   "metadata": {},
   "outputs": [
    {
     "output_type": "execute_result",
     "data": {
      "text/plain": "   Yes   No\n0   50  131\n1   21    2",
      "text/html": "<div>\n<style scoped>\n    .dataframe tbody tr th:only-of-type {\n        vertical-align: middle;\n    }\n\n    .dataframe tbody tr th {\n        vertical-align: top;\n    }\n\n    .dataframe thead th {\n        text-align: right;\n    }\n</style>\n<table border=\"1\" class=\"dataframe\">\n  <thead>\n    <tr style=\"text-align: right;\">\n      <th></th>\n      <th>Yes</th>\n      <th>No</th>\n    </tr>\n  </thead>\n  <tbody>\n    <tr>\n      <th>0</th>\n      <td>50</td>\n      <td>131</td>\n    </tr>\n    <tr>\n      <th>1</th>\n      <td>21</td>\n      <td>2</td>\n    </tr>\n  </tbody>\n</table>\n</div>"
     },
     "metadata": {},
     "execution_count": 2
    }
   ],
   "source": [
    "pd.DataFrame({'Yes': [50, 21], 'No': [131, 2]})"
   ]
  },
  {
   "cell_type": "code",
   "execution_count": 3,
   "metadata": {},
   "outputs": [
    {
     "output_type": "execute_result",
     "data": {
      "text/plain": "             Bob           Sue\n0    I liked it.  Pretty good.\n1  It was awful.        Bland.",
      "text/html": "<div>\n<style scoped>\n    .dataframe tbody tr th:only-of-type {\n        vertical-align: middle;\n    }\n\n    .dataframe tbody tr th {\n        vertical-align: top;\n    }\n\n    .dataframe thead th {\n        text-align: right;\n    }\n</style>\n<table border=\"1\" class=\"dataframe\">\n  <thead>\n    <tr style=\"text-align: right;\">\n      <th></th>\n      <th>Bob</th>\n      <th>Sue</th>\n    </tr>\n  </thead>\n  <tbody>\n    <tr>\n      <th>0</th>\n      <td>I liked it.</td>\n      <td>Pretty good.</td>\n    </tr>\n    <tr>\n      <th>1</th>\n      <td>It was awful.</td>\n      <td>Bland.</td>\n    </tr>\n  </tbody>\n</table>\n</div>"
     },
     "metadata": {},
     "execution_count": 3
    }
   ],
   "source": [
    "pd.DataFrame({'Bob': ['I liked it.', 'It was awful.'], \n",
    "              'Sue': ['Pretty good.', 'Bland.']})"
   ]
  },
  {
   "cell_type": "code",
   "execution_count": 4,
   "metadata": {},
   "outputs": [
    {
     "output_type": "execute_result",
     "data": {
      "text/plain": "                     Bob           Sue\nProduct A    I liked it.  Pretty good.\nProduct B  It was awful.        Bland.",
      "text/html": "<div>\n<style scoped>\n    .dataframe tbody tr th:only-of-type {\n        vertical-align: middle;\n    }\n\n    .dataframe tbody tr th {\n        vertical-align: top;\n    }\n\n    .dataframe thead th {\n        text-align: right;\n    }\n</style>\n<table border=\"1\" class=\"dataframe\">\n  <thead>\n    <tr style=\"text-align: right;\">\n      <th></th>\n      <th>Bob</th>\n      <th>Sue</th>\n    </tr>\n  </thead>\n  <tbody>\n    <tr>\n      <th>Product A</th>\n      <td>I liked it.</td>\n      <td>Pretty good.</td>\n    </tr>\n    <tr>\n      <th>Product B</th>\n      <td>It was awful.</td>\n      <td>Bland.</td>\n    </tr>\n  </tbody>\n</table>\n</div>"
     },
     "metadata": {},
     "execution_count": 4
    }
   ],
   "source": [
    "pd.DataFrame({'Bob': ['I liked it.', 'It was awful.'], \n",
    "              'Sue': ['Pretty good.', 'Bland.']},\n",
    "             index=['Product A', 'Product B'])"
   ]
  },
  {
   "cell_type": "markdown",
   "metadata": {},
   "source": [
    "## Series"
   ]
  },
  {
   "cell_type": "code",
   "execution_count": 5,
   "metadata": {},
   "outputs": [
    {
     "output_type": "execute_result",
     "data": {
      "text/plain": "0    1\n1    2\n2    3\n3    4\n4    5\ndtype: int64"
     },
     "metadata": {},
     "execution_count": 5
    }
   ],
   "source": [
    "pd.Series([1, 2, 3, 4, 5])"
   ]
  },
  {
   "cell_type": "code",
   "execution_count": 6,
   "metadata": {},
   "outputs": [
    {
     "output_type": "execute_result",
     "data": {
      "text/plain": "2015 Sales    30\n2016 Sales    35\n2017 Sales    40\nName: Product A, dtype: int64"
     },
     "metadata": {},
     "execution_count": 6
    }
   ],
   "source": [
    "pd.Series([30, 35, 40], \n",
    "           index=['2015 Sales', '2016 Sales', '2017 Sales'],\n",
    "           name='Product A')"
   ]
  },
  {
   "cell_type": "code",
   "execution_count": 7,
   "metadata": {},
   "outputs": [],
   "source": [
    "# open and indexing df\n",
    "reviews = pd.read_csv(\"/home/gluecksman/src/Data_and_ML/pandas/winemag-data-130k-v2.csv\", index_col=0)\n",
    "\n",
    "# saving df to something\n",
    "reviews.to_csv(\"just_a_fancy_test_name.csv\")"
   ]
  },
  {
   "cell_type": "markdown",
   "metadata": {},
   "source": [
    "# 2 Indexing, selecting & assigning"
   ]
  },
  {
   "cell_type": "code",
   "execution_count": 22,
   "metadata": {},
   "outputs": [
    {
     "output_type": "execute_result",
     "data": {
      "text/plain": "    country                                        description   designation  \\\n0     Italy  Aromas include tropical fruit, broom, brimston...  Vulkà Bianco   \n1  Portugal  This is ripe and fruity, a wine that is smooth...      Avidagos   \n\n   points  price           province region_1 region_2    taster_name  \\\n0      87    NaN  Sicily & Sardinia     Etna      NaN  Kerin O’Keefe   \n1      87   15.0              Douro      NaN      NaN     Roger Voss   \n\n  taster_twitter_handle                                          title  \\\n0          @kerinokeefe              Nicosia 2013 Vulkà Bianco  (Etna)   \n1            @vossroger  Quinta dos Avidagos 2011 Avidagos Red (Douro)   \n\n          variety               winery    critic  index_backwards  \n0     White Blend              Nicosia  everyone           129971  \n1  Portuguese Red  Quinta dos Avidagos  everyone           129970  ",
      "text/html": "<div>\n<style scoped>\n    .dataframe tbody tr th:only-of-type {\n        vertical-align: middle;\n    }\n\n    .dataframe tbody tr th {\n        vertical-align: top;\n    }\n\n    .dataframe thead th {\n        text-align: right;\n    }\n</style>\n<table border=\"1\" class=\"dataframe\">\n  <thead>\n    <tr style=\"text-align: right;\">\n      <th></th>\n      <th>country</th>\n      <th>description</th>\n      <th>designation</th>\n      <th>points</th>\n      <th>price</th>\n      <th>province</th>\n      <th>region_1</th>\n      <th>region_2</th>\n      <th>taster_name</th>\n      <th>taster_twitter_handle</th>\n      <th>title</th>\n      <th>variety</th>\n      <th>winery</th>\n      <th>critic</th>\n      <th>index_backwards</th>\n    </tr>\n  </thead>\n  <tbody>\n    <tr>\n      <th>0</th>\n      <td>Italy</td>\n      <td>Aromas include tropical fruit, broom, brimston...</td>\n      <td>Vulkà Bianco</td>\n      <td>87</td>\n      <td>NaN</td>\n      <td>Sicily &amp; Sardinia</td>\n      <td>Etna</td>\n      <td>NaN</td>\n      <td>Kerin O’Keefe</td>\n      <td>@kerinokeefe</td>\n      <td>Nicosia 2013 Vulkà Bianco  (Etna)</td>\n      <td>White Blend</td>\n      <td>Nicosia</td>\n      <td>everyone</td>\n      <td>129971</td>\n    </tr>\n    <tr>\n      <th>1</th>\n      <td>Portugal</td>\n      <td>This is ripe and fruity, a wine that is smooth...</td>\n      <td>Avidagos</td>\n      <td>87</td>\n      <td>15.0</td>\n      <td>Douro</td>\n      <td>NaN</td>\n      <td>NaN</td>\n      <td>Roger Voss</td>\n      <td>@vossroger</td>\n      <td>Quinta dos Avidagos 2011 Avidagos Red (Douro)</td>\n      <td>Portuguese Red</td>\n      <td>Quinta dos Avidagos</td>\n      <td>everyone</td>\n      <td>129970</td>\n    </tr>\n  </tbody>\n</table>\n</div>"
     },
     "metadata": {},
     "execution_count": 22
    }
   ],
   "source": [
    "# to remember\n",
    "reviews.head(2)"
   ]
  },
  {
   "cell_type": "code",
   "execution_count": 8,
   "metadata": {},
   "outputs": [
    {
     "output_type": "execute_result",
     "data": {
      "text/plain": "0       Italy\n1    Portugal\n2          US\n3          US\n4          US\n5       Spain\n6       Italy\n7      France\n8     Germany\n9      France\nName: country, dtype: object"
     },
     "metadata": {},
     "execution_count": 8
    }
   ],
   "source": [
    "reviews.country\n",
    "# same as \n",
    "reviews['country']\n",
    "\n",
    "\n",
    "# further, we can do this:\n",
    "reviews['country'][0] # selects 1st\n",
    "reviews['country'][0:10] # selects from 1st - 10th"
   ]
  },
  {
   "cell_type": "markdown",
   "metadata": {},
   "source": [
    "### index-based selection\n",
    "first element of the range is included and the last one excluded"
   ]
  },
  {
   "cell_type": "code",
   "execution_count": 9,
   "metadata": {},
   "outputs": [],
   "source": [
    "# index-based selection\n",
    "reviews.iloc[0] # selects all row (and thus, the different columns' values)\n",
    "\n",
    "# to get a column with iloc\n",
    "reviews.iloc[:, 0] # selects all the column i= 0\n",
    "\n",
    "# both below are =\n",
    "reviews.iloc[:3, 0] # selects from the column i= 0, the 1st, 2nd and 3rd row\n",
    "reviews.iloc[[0, 1, 2], 0] # the same\n",
    "\n",
    "reviews.iloc[1:3, 0] # selects, from the column i= 0, JUST 2nd & 3rd entries\n",
    "\n",
    "reviews.iloc[-5:] # selects last five rows (with all the column's content)\n",
    "\n",
    "sample_reviews = reviews.iloc[[1, 2, 3, 5, 8], :] # selects the rows 1, 2, 3, 5, 8 entirely (with all the columns)"
   ]
  },
  {
   "cell_type": "markdown",
   "metadata": {},
   "source": [
    "### Label-based selection\n",
    "indexes inclusively"
   ]
  },
  {
   "cell_type": "code",
   "execution_count": 64,
   "metadata": {},
   "outputs": [],
   "source": [
    "# label-based selection\n",
    "reviews.loc[:, ['taster_name', 'taster_twitter_handle', 'points']] # selects rows from the desired columns \n",
    "\n",
    "# Manipulating the index\n",
    "reviews.set_index(\"title\")\n",
    "\n",
    "# Conditional selection\n",
    "reviews.country == 'Italy' #  produced a Series of True/False booleans based on the country of each record\n",
    "\n",
    "reviews.loc[reviews.country == 'Italy'] # selects rows where column 'country' == 'italy'\n",
    "reviews.loc[(reviews.country == 'Italy') & (reviews.points >= 90)] # and where the column 'points' ==result > 90\n",
    "reviews.loc[(reviews.country == 'Italy') | (reviews.points >= 90)] # or (same thing otherwise)\n",
    "\n",
    "# isin lets you select the data whose value \"is in\" a list of values\n",
    "reviews.loc[reviews.country.isin(['Italy', 'France'])]\n",
    "\n",
    "# isnull/notnull\n",
    "reviews.loc[reviews.price.notnull()] # selects rows that are non-null/non-NaN in the 'price' column\n",
    "reviews.loc[reviews.price.isnull()] # selects rows that are null/NaN in the 'price' column\n",
    "\n",
    "# assigning data to a df\n",
    "reviews['critic'] = 'everyone'\n",
    "reviews['index_backwards'] = range(len(reviews), 0, -1) # \"-1\" means backwards otherwise the range is not working "
   ]
  },
  {
   "cell_type": "markdown",
   "metadata": {},
   "source": [
    "# 3 Summary functions & Maps"
   ]
  },
  {
   "cell_type": "code",
   "execution_count": 43,
   "metadata": {},
   "outputs": [
    {
     "output_type": "execute_result",
     "data": {
      "text/plain": "    country                                        description   designation  \\\n0     Italy  Aromas include tropical fruit, broom, brimston...  Vulkà Bianco   \n1  Portugal  This is ripe and fruity, a wine that is smooth...      Avidagos   \n\n   points  price           province region_1 region_2    taster_name  \\\n0      87    NaN  Sicily & Sardinia     Etna      NaN  Kerin O’Keefe   \n1      87   15.0              Douro      NaN      NaN     Roger Voss   \n\n  taster_twitter_handle                                          title  \\\n0          @kerinokeefe              Nicosia 2013 Vulkà Bianco  (Etna)   \n1            @vossroger  Quinta dos Avidagos 2011 Avidagos Red (Douro)   \n\n          variety               winery    critic  index_backwards  \n0     White Blend              Nicosia  everyone           129971  \n1  Portuguese Red  Quinta dos Avidagos  everyone           129970  ",
      "text/html": "<div>\n<style scoped>\n    .dataframe tbody tr th:only-of-type {\n        vertical-align: middle;\n    }\n\n    .dataframe tbody tr th {\n        vertical-align: top;\n    }\n\n    .dataframe thead th {\n        text-align: right;\n    }\n</style>\n<table border=\"1\" class=\"dataframe\">\n  <thead>\n    <tr style=\"text-align: right;\">\n      <th></th>\n      <th>country</th>\n      <th>description</th>\n      <th>designation</th>\n      <th>points</th>\n      <th>price</th>\n      <th>province</th>\n      <th>region_1</th>\n      <th>region_2</th>\n      <th>taster_name</th>\n      <th>taster_twitter_handle</th>\n      <th>title</th>\n      <th>variety</th>\n      <th>winery</th>\n      <th>critic</th>\n      <th>index_backwards</th>\n    </tr>\n  </thead>\n  <tbody>\n    <tr>\n      <th>0</th>\n      <td>Italy</td>\n      <td>Aromas include tropical fruit, broom, brimston...</td>\n      <td>Vulkà Bianco</td>\n      <td>87</td>\n      <td>NaN</td>\n      <td>Sicily &amp; Sardinia</td>\n      <td>Etna</td>\n      <td>NaN</td>\n      <td>Kerin O’Keefe</td>\n      <td>@kerinokeefe</td>\n      <td>Nicosia 2013 Vulkà Bianco  (Etna)</td>\n      <td>White Blend</td>\n      <td>Nicosia</td>\n      <td>everyone</td>\n      <td>129971</td>\n    </tr>\n    <tr>\n      <th>1</th>\n      <td>Portugal</td>\n      <td>This is ripe and fruity, a wine that is smooth...</td>\n      <td>Avidagos</td>\n      <td>87</td>\n      <td>15.0</td>\n      <td>Douro</td>\n      <td>NaN</td>\n      <td>NaN</td>\n      <td>Roger Voss</td>\n      <td>@vossroger</td>\n      <td>Quinta dos Avidagos 2011 Avidagos Red (Douro)</td>\n      <td>Portuguese Red</td>\n      <td>Quinta dos Avidagos</td>\n      <td>everyone</td>\n      <td>129970</td>\n    </tr>\n  </tbody>\n</table>\n</div>"
     },
     "metadata": {},
     "execution_count": 43
    }
   ],
   "source": [
    "# to remember\n",
    "reviews.head(2)"
   ]
  },
  {
   "cell_type": "code",
   "execution_count": 19,
   "metadata": {},
   "outputs": [
    {
     "output_type": "execute_result",
     "data": {
      "text/plain": "count    129971.000000\nmean         88.447138\nstd           3.039730\nmin          80.000000\n25%          86.000000\n50%          88.000000\n75%          91.000000\nmax         100.000000\nName: points, dtype: float64"
     },
     "metadata": {},
     "execution_count": 19
    }
   ],
   "source": [
    "# description (of a column)\n",
    "reviews.taster_name.describe()\n",
    "reviews.points.describe()"
   ]
  },
  {
   "cell_type": "code",
   "execution_count": 44,
   "metadata": {},
   "outputs": [
    {
     "output_type": "execute_result",
     "data": {
      "text/plain": "88.0"
     },
     "metadata": {},
     "execution_count": 44
    }
   ],
   "source": [
    "# mean & median (of a column)\n",
    "reviews.points.mean()\n",
    "reviews.points.median()"
   ]
  },
  {
   "cell_type": "code",
   "execution_count": 18,
   "metadata": {},
   "outputs": [
    {
     "output_type": "execute_result",
     "data": {
      "text/plain": "array(['Kerin O’Keefe', 'Roger Voss', 'Paul Gregutt',\n       'Alexander Peartree', 'Michael Schachner', 'Anna Lee C. Iijima',\n       'Virginie Boone', 'Matt Kettmann', nan, 'Sean P. Sullivan',\n       'Jim Gordon', 'Joe Czerwinski', 'Anne Krebiehl\\xa0MW',\n       'Lauren Buzzeo', 'Mike DeSimone', 'Jeff Jenssen',\n       'Susan Kostrzewa', 'Carrie Dykes', 'Fiona Adams',\n       'Christina Pickard'], dtype=object)"
     },
     "metadata": {},
     "execution_count": 18
    }
   ],
   "source": [
    "# list unique values (of a column)\n",
    "reviews.taster_name.unique()"
   ]
  },
  {
   "cell_type": "code",
   "execution_count": 21,
   "metadata": {},
   "outputs": [
    {
     "output_type": "execute_result",
     "data": {
      "text/plain": "Roger Voss            25514\nMichael Schachner     15134\nKerin O’Keefe         10776\nVirginie Boone         9537\nPaul Gregutt           9532\nMatt Kettmann          6332\nJoe Czerwinski         5147\nSean P. Sullivan       4966\nAnna Lee C. Iijima     4415\nJim Gordon             4177\nAnne Krebiehl MW       3685\nLauren Buzzeo          1835\nSusan Kostrzewa        1085\nMike DeSimone           514\nJeff Jenssen            491\nAlexander Peartree      415\nCarrie Dykes            139\nFiona Adams              27\nChristina Pickard         6\nName: taster_name, dtype: int64"
     },
     "metadata": {},
     "execution_count": 21
    }
   ],
   "source": [
    "#  list of unique values and how often they occur (for a column)\n",
    "reviews.taster_name.value_counts()"
   ]
  },
  {
   "cell_type": "markdown",
   "metadata": {},
   "source": [
    "### Maps\n",
    "All of the standard Python operators (>, <, ==, and so on) are faster than map() or apply() because they uses speed ups built into pandas. However, they are not as flexible as map() or apply(), which can do more advanced things, like applying conditional logic.\n",
    "\n",
    "\n",
    "In the examples below map() and apply() method are doing the same thing"
   ]
  },
  {
   "cell_type": "code",
   "execution_count": 25,
   "metadata": {},
   "outputs": [
    {
     "output_type": "execute_result",
     "data": {
      "text/plain": "    country                                        description   designation  \\\n0     Italy  Aromas include tropical fruit, broom, brimston...  Vulkà Bianco   \n1  Portugal  This is ripe and fruity, a wine that is smooth...      Avidagos   \n\n   points  price           province region_1 region_2    taster_name  \\\n0      87    NaN  Sicily & Sardinia     Etna      NaN  Kerin O’Keefe   \n1      87   15.0              Douro      NaN      NaN     Roger Voss   \n\n  taster_twitter_handle                                          title  \\\n0          @kerinokeefe              Nicosia 2013 Vulkà Bianco  (Etna)   \n1            @vossroger  Quinta dos Avidagos 2011 Avidagos Red (Douro)   \n\n          variety               winery    critic  index_backwards  \n0     White Blend              Nicosia  everyone           129971  \n1  Portuguese Red  Quinta dos Avidagos  everyone           129970  ",
      "text/html": "<div>\n<style scoped>\n    .dataframe tbody tr th:only-of-type {\n        vertical-align: middle;\n    }\n\n    .dataframe tbody tr th {\n        vertical-align: top;\n    }\n\n    .dataframe thead th {\n        text-align: right;\n    }\n</style>\n<table border=\"1\" class=\"dataframe\">\n  <thead>\n    <tr style=\"text-align: right;\">\n      <th></th>\n      <th>country</th>\n      <th>description</th>\n      <th>designation</th>\n      <th>points</th>\n      <th>price</th>\n      <th>province</th>\n      <th>region_1</th>\n      <th>region_2</th>\n      <th>taster_name</th>\n      <th>taster_twitter_handle</th>\n      <th>title</th>\n      <th>variety</th>\n      <th>winery</th>\n      <th>critic</th>\n      <th>index_backwards</th>\n    </tr>\n  </thead>\n  <tbody>\n    <tr>\n      <th>0</th>\n      <td>Italy</td>\n      <td>Aromas include tropical fruit, broom, brimston...</td>\n      <td>Vulkà Bianco</td>\n      <td>87</td>\n      <td>NaN</td>\n      <td>Sicily &amp; Sardinia</td>\n      <td>Etna</td>\n      <td>NaN</td>\n      <td>Kerin O’Keefe</td>\n      <td>@kerinokeefe</td>\n      <td>Nicosia 2013 Vulkà Bianco  (Etna)</td>\n      <td>White Blend</td>\n      <td>Nicosia</td>\n      <td>everyone</td>\n      <td>129971</td>\n    </tr>\n    <tr>\n      <th>1</th>\n      <td>Portugal</td>\n      <td>This is ripe and fruity, a wine that is smooth...</td>\n      <td>Avidagos</td>\n      <td>87</td>\n      <td>15.0</td>\n      <td>Douro</td>\n      <td>NaN</td>\n      <td>NaN</td>\n      <td>Roger Voss</td>\n      <td>@vossroger</td>\n      <td>Quinta dos Avidagos 2011 Avidagos Red (Douro)</td>\n      <td>Portuguese Red</td>\n      <td>Quinta dos Avidagos</td>\n      <td>everyone</td>\n      <td>129970</td>\n    </tr>\n  </tbody>\n</table>\n</div>"
     },
     "metadata": {},
     "execution_count": 25
    }
   ],
   "source": [
    "# to remember\n",
    "reviews.head(2)"
   ]
  },
  {
   "cell_type": "code",
   "execution_count": 26,
   "metadata": {},
   "outputs": [
    {
     "output_type": "execute_result",
     "data": {
      "text/plain": "0        -1.447138\n1        -1.447138\n2        -1.447138\n3        -1.447138\n4        -1.447138\n            ...   \n129966    1.552862\n129967    1.552862\n129968    1.552862\n129969    1.552862\n129970    1.552862\nName: points, Length: 129971, dtype: float64"
     },
     "metadata": {},
     "execution_count": 26
    }
   ],
   "source": [
    "# map (returns a new transformed Series)\n",
    "review_points_mean = reviews.points.mean()\n",
    "reviews.points.map(lambda p: p - review_points_mean) # returns a new transformed Series. Does not modify the original data it is called on"
   ]
  },
  {
   "cell_type": "code",
   "execution_count": 80,
   "metadata": {},
   "outputs": [
    {
     "output_type": "execute_result",
     "data": {
      "text/plain": "    country                                        description   designation  \\\n0     Italy  Aromas include tropical fruit, broom, brimston...  Vulkà Bianco   \n1  Portugal  This is ripe and fruity, a wine that is smooth...      Avidagos   \n\n     points  price           province region_1 region_2    taster_name  \\\n0 -1.447138    NaN  Sicily & Sardinia     Etna      NaN  Kerin O’Keefe   \n1 -1.447138   15.0              Douro      NaN      NaN     Roger Voss   \n\n  taster_twitter_handle                                          title  \\\n0          @kerinokeefe              Nicosia 2013 Vulkà Bianco  (Etna)   \n1            @vossroger  Quinta dos Avidagos 2011 Avidagos Red (Douro)   \n\n          variety               winery    critic  index_backwards  \n0     White Blend              Nicosia  everyone           129971  \n1  Portuguese Red  Quinta dos Avidagos  everyone           129970  ",
      "text/html": "<div>\n<style scoped>\n    .dataframe tbody tr th:only-of-type {\n        vertical-align: middle;\n    }\n\n    .dataframe tbody tr th {\n        vertical-align: top;\n    }\n\n    .dataframe thead th {\n        text-align: right;\n    }\n</style>\n<table border=\"1\" class=\"dataframe\">\n  <thead>\n    <tr style=\"text-align: right;\">\n      <th></th>\n      <th>country</th>\n      <th>description</th>\n      <th>designation</th>\n      <th>points</th>\n      <th>price</th>\n      <th>province</th>\n      <th>region_1</th>\n      <th>region_2</th>\n      <th>taster_name</th>\n      <th>taster_twitter_handle</th>\n      <th>title</th>\n      <th>variety</th>\n      <th>winery</th>\n      <th>critic</th>\n      <th>index_backwards</th>\n    </tr>\n  </thead>\n  <tbody>\n    <tr>\n      <th>0</th>\n      <td>Italy</td>\n      <td>Aromas include tropical fruit, broom, brimston...</td>\n      <td>Vulkà Bianco</td>\n      <td>-1.447138</td>\n      <td>NaN</td>\n      <td>Sicily &amp; Sardinia</td>\n      <td>Etna</td>\n      <td>NaN</td>\n      <td>Kerin O’Keefe</td>\n      <td>@kerinokeefe</td>\n      <td>Nicosia 2013 Vulkà Bianco  (Etna)</td>\n      <td>White Blend</td>\n      <td>Nicosia</td>\n      <td>everyone</td>\n      <td>129971</td>\n    </tr>\n    <tr>\n      <th>1</th>\n      <td>Portugal</td>\n      <td>This is ripe and fruity, a wine that is smooth...</td>\n      <td>Avidagos</td>\n      <td>-1.447138</td>\n      <td>15.0</td>\n      <td>Douro</td>\n      <td>NaN</td>\n      <td>NaN</td>\n      <td>Roger Voss</td>\n      <td>@vossroger</td>\n      <td>Quinta dos Avidagos 2011 Avidagos Red (Douro)</td>\n      <td>Portuguese Red</td>\n      <td>Quinta dos Avidagos</td>\n      <td>everyone</td>\n      <td>129970</td>\n    </tr>\n  </tbody>\n</table>\n</div>"
     },
     "metadata": {},
     "execution_count": 80
    }
   ],
   "source": [
    "# apply (returns a new transformed Dataframe)\n",
    "# (if big dataframe, takes time)\n",
    "def remean_points(row):\n",
    "    row.points = row.points - review_points_mean\n",
    "    return row\n",
    "\n",
    "reviews.apply(remean_points, axis='columns') # returns a new transformed Dataframe. Does not modify the original data it is called on\n",
    "\n",
    "# but here for the print only:\n",
    "remean_points_df = reviews.apply(remean_points, axis='columns')\n",
    "remean_points_df.head(2) # test"
   ]
  },
  {
   "cell_type": "code",
   "execution_count": 31,
   "metadata": {},
   "outputs": [
    {
     "output_type": "execute_result",
     "data": {
      "text/plain": "    country                                        description   designation  \\\n0     Italy  Aromas include tropical fruit, broom, brimston...  Vulkà Bianco   \n1  Portugal  This is ripe and fruity, a wine that is smooth...      Avidagos   \n\n   points  price           province region_1 region_2    taster_name  \\\n0      87    NaN  Sicily & Sardinia     Etna      NaN  Kerin O’Keefe   \n1      87   15.0              Douro      NaN      NaN     Roger Voss   \n\n  taster_twitter_handle                                          title  \\\n0          @kerinokeefe              Nicosia 2013 Vulkà Bianco  (Etna)   \n1            @vossroger  Quinta dos Avidagos 2011 Avidagos Red (Douro)   \n\n          variety               winery    critic  index_backwards  \n0     White Blend              Nicosia  everyone           129971  \n1  Portuguese Red  Quinta dos Avidagos  everyone           129970  ",
      "text/html": "<div>\n<style scoped>\n    .dataframe tbody tr th:only-of-type {\n        vertical-align: middle;\n    }\n\n    .dataframe tbody tr th {\n        vertical-align: top;\n    }\n\n    .dataframe thead th {\n        text-align: right;\n    }\n</style>\n<table border=\"1\" class=\"dataframe\">\n  <thead>\n    <tr style=\"text-align: right;\">\n      <th></th>\n      <th>country</th>\n      <th>description</th>\n      <th>designation</th>\n      <th>points</th>\n      <th>price</th>\n      <th>province</th>\n      <th>region_1</th>\n      <th>region_2</th>\n      <th>taster_name</th>\n      <th>taster_twitter_handle</th>\n      <th>title</th>\n      <th>variety</th>\n      <th>winery</th>\n      <th>critic</th>\n      <th>index_backwards</th>\n    </tr>\n  </thead>\n  <tbody>\n    <tr>\n      <th>0</th>\n      <td>Italy</td>\n      <td>Aromas include tropical fruit, broom, brimston...</td>\n      <td>Vulkà Bianco</td>\n      <td>87</td>\n      <td>NaN</td>\n      <td>Sicily &amp; Sardinia</td>\n      <td>Etna</td>\n      <td>NaN</td>\n      <td>Kerin O’Keefe</td>\n      <td>@kerinokeefe</td>\n      <td>Nicosia 2013 Vulkà Bianco  (Etna)</td>\n      <td>White Blend</td>\n      <td>Nicosia</td>\n      <td>everyone</td>\n      <td>129971</td>\n    </tr>\n    <tr>\n      <th>1</th>\n      <td>Portugal</td>\n      <td>This is ripe and fruity, a wine that is smooth...</td>\n      <td>Avidagos</td>\n      <td>87</td>\n      <td>15.0</td>\n      <td>Douro</td>\n      <td>NaN</td>\n      <td>NaN</td>\n      <td>Roger Voss</td>\n      <td>@vossroger</td>\n      <td>Quinta dos Avidagos 2011 Avidagos Red (Douro)</td>\n      <td>Portuguese Red</td>\n      <td>Quinta dos Avidagos</td>\n      <td>everyone</td>\n      <td>129970</td>\n    </tr>\n  </tbody>\n</table>\n</div>"
     },
     "metadata": {},
     "execution_count": 31
    }
   ],
   "source": [
    "# check that the orginal dataframe was not modified by either map or apply method:\n",
    "reviews.head(2)"
   ]
  },
  {
   "cell_type": "code",
   "execution_count": 36,
   "metadata": {},
   "outputs": [
    {
     "output_type": "execute_result",
     "data": {
      "text/plain": "0        -1.447138\n1        -1.447138\n2        -1.447138\n3        -1.447138\n4        -1.447138\n            ...   \n129966    1.552862\n129967    1.552862\n129968    1.552862\n129969    1.552862\n129970    1.552862\nName: points, Length: 129971, dtype: float64"
     },
     "metadata": {},
     "execution_count": 36
    }
   ],
   "source": [
    "# an easier way to do the above code\n",
    "review_points_mean = reviews.points.mean()\n",
    "reviews.points - review_points_mean"
   ]
  },
  {
   "cell_type": "code",
   "execution_count": 41,
   "metadata": {},
   "outputs": [
    {
     "output_type": "execute_result",
     "data": {
      "text/plain": "0                     Italy - Etna\n1                              NaN\n2           US - Willamette Valley\n3         US - Lake Michigan Shore\n4           US - Willamette Valley\n                    ...           \n129966                         NaN\n129967                 US - Oregon\n129968             France - Alsace\n129969             France - Alsace\n129970             France - Alsace\nLength: 129971, dtype: object"
     },
     "metadata": {},
     "execution_count": 41
    }
   ],
   "source": [
    "# operators (do not modified original dataframe if just used by themselves)\n",
    "reviews.country + \" - \" + reviews.region_1"
   ]
  },
  {
   "cell_type": "code",
   "execution_count": 42,
   "metadata": {},
   "outputs": [
    {
     "output_type": "execute_result",
     "data": {
      "text/plain": "    country                                        description   designation  \\\n0     Italy  Aromas include tropical fruit, broom, brimston...  Vulkà Bianco   \n1  Portugal  This is ripe and fruity, a wine that is smooth...      Avidagos   \n\n   points  price           province region_1 region_2    taster_name  \\\n0      87    NaN  Sicily & Sardinia     Etna      NaN  Kerin O’Keefe   \n1      87   15.0              Douro      NaN      NaN     Roger Voss   \n\n  taster_twitter_handle                                          title  \\\n0          @kerinokeefe              Nicosia 2013 Vulkà Bianco  (Etna)   \n1            @vossroger  Quinta dos Avidagos 2011 Avidagos Red (Douro)   \n\n          variety               winery    critic  index_backwards  \n0     White Blend              Nicosia  everyone           129971  \n1  Portuguese Red  Quinta dos Avidagos  everyone           129970  ",
      "text/html": "<div>\n<style scoped>\n    .dataframe tbody tr th:only-of-type {\n        vertical-align: middle;\n    }\n\n    .dataframe tbody tr th {\n        vertical-align: top;\n    }\n\n    .dataframe thead th {\n        text-align: right;\n    }\n</style>\n<table border=\"1\" class=\"dataframe\">\n  <thead>\n    <tr style=\"text-align: right;\">\n      <th></th>\n      <th>country</th>\n      <th>description</th>\n      <th>designation</th>\n      <th>points</th>\n      <th>price</th>\n      <th>province</th>\n      <th>region_1</th>\n      <th>region_2</th>\n      <th>taster_name</th>\n      <th>taster_twitter_handle</th>\n      <th>title</th>\n      <th>variety</th>\n      <th>winery</th>\n      <th>critic</th>\n      <th>index_backwards</th>\n    </tr>\n  </thead>\n  <tbody>\n    <tr>\n      <th>0</th>\n      <td>Italy</td>\n      <td>Aromas include tropical fruit, broom, brimston...</td>\n      <td>Vulkà Bianco</td>\n      <td>87</td>\n      <td>NaN</td>\n      <td>Sicily &amp; Sardinia</td>\n      <td>Etna</td>\n      <td>NaN</td>\n      <td>Kerin O’Keefe</td>\n      <td>@kerinokeefe</td>\n      <td>Nicosia 2013 Vulkà Bianco  (Etna)</td>\n      <td>White Blend</td>\n      <td>Nicosia</td>\n      <td>everyone</td>\n      <td>129971</td>\n    </tr>\n    <tr>\n      <th>1</th>\n      <td>Portugal</td>\n      <td>This is ripe and fruity, a wine that is smooth...</td>\n      <td>Avidagos</td>\n      <td>87</td>\n      <td>15.0</td>\n      <td>Douro</td>\n      <td>NaN</td>\n      <td>NaN</td>\n      <td>Roger Voss</td>\n      <td>@vossroger</td>\n      <td>Quinta dos Avidagos 2011 Avidagos Red (Douro)</td>\n      <td>Portuguese Red</td>\n      <td>Quinta dos Avidagos</td>\n      <td>everyone</td>\n      <td>129970</td>\n    </tr>\n  </tbody>\n</table>\n</div>"
     },
     "metadata": {},
     "execution_count": 42
    }
   ],
   "source": [
    "# check that the orginal dataframe was not modified by the operators:\n",
    "reviews.head(2)"
   ]
  },
  {
   "cell_type": "markdown",
   "metadata": {},
   "source": [
    "##### Exercices from Kaggle"
   ]
  },
  {
   "cell_type": "markdown",
   "metadata": {},
   "source": [
    "1/ Which wine is the \"best bargain\"? Create a variable bargain_wine with the title of the wine with the highest points-to-price ratio in the dataset"
   ]
  },
  {
   "cell_type": "code",
   "execution_count": 79,
   "metadata": {},
   "outputs": [
    {
     "output_type": "execute_result",
     "data": {
      "text/plain": "'Bandit NV Merlot (California)'"
     },
     "metadata": {},
     "execution_count": 79
    }
   ],
   "source": [
    "bargain_idx = (reviews.points / reviews.price).idxmax() # idxmax = index of max value\n",
    "bargain_wine = reviews.loc[bargain_idx, 'title']\n",
    "bargain_wine # test"
   ]
  },
  {
   "cell_type": "markdown",
   "metadata": {},
   "source": [
    "2/ \"tropical\" or \"fruity\"? Create a Series `descriptor_counts` counting how many times each of these two words appears in the `description` column in the dataset"
   ]
  },
  {
   "cell_type": "code",
   "execution_count": 82,
   "metadata": {},
   "outputs": [
    {
     "output_type": "execute_result",
     "data": {
      "text/plain": "tropical    3607\nfruity      9090\ndtype: int64"
     },
     "metadata": {},
     "execution_count": 82
    }
   ],
   "source": [
    "nb_trop = reviews.description.map(lambda description: \"tropical\" in description).sum()\n",
    "nb_fruit = reviews.description.map(lambda description: \"fruity\" in description).sum()\n",
    "\n",
    "descriptor_counts = pd.Series([nb_trop,nb_fruit]\n",
    "                             , index=['tropical', 'fruity'])\n",
    "descriptor_counts # test"
   ]
  },
  {
   "cell_type": "markdown",
   "metadata": {},
   "source": [
    "3/ A score of 95 or higher counts as 3 stars, a score of at least 85 but less than 95 is 2 stars. Any other score is 1 star. But any wines from Canada should automatically get 3 stars, regardless of points (mafia)."
   ]
  },
  {
   "cell_type": "code",
   "execution_count": 94,
   "metadata": {},
   "outputs": [
    {
     "output_type": "execute_result",
     "data": {
      "text/plain": "0         2\n1         2\n2         2\n3         2\n4         2\n         ..\n129966    2\n129967    2\n129968    2\n129969    2\n129970    2\nLength: 129971, dtype: int64"
     },
     "metadata": {},
     "execution_count": 94
    }
   ],
   "source": [
    "def star_attibuter(row):\n",
    "    if row['country'] == \"Canada\":\n",
    "        return 3\n",
    "    elif row.points >= 95:\n",
    "        return 3\n",
    "    elif row.points >= 85 & row.points < 95:\n",
    "        return 2\n",
    "    else:\n",
    "        return 1\n",
    "\n",
    "star_ratings = reviews.apply(star_attibuter, axis='columns') # type = Series\n",
    "star_ratings # test"
   ]
  },
  {
   "cell_type": "markdown",
   "metadata": {},
   "source": [
    "# 4 Grouping and Sorting"
   ]
  },
  {
   "cell_type": "markdown",
   "metadata": {},
   "source": [
    "### Groupwise analysis"
   ]
  },
  {
   "cell_type": "code",
   "execution_count": 104,
   "metadata": {},
   "outputs": [
    {
     "output_type": "execute_result",
     "data": {
      "text/plain": "  country                                        description   designation  \\\n0   Italy  Aromas include tropical fruit, broom, brimston...  Vulkà Bianco   \n\n   points  price           province region_1 region_2    taster_name  \\\n0      87    NaN  Sicily & Sardinia     Etna      NaN  Kerin O’Keefe   \n\n  taster_twitter_handle                              title      variety  \\\n0          @kerinokeefe  Nicosia 2013 Vulkà Bianco  (Etna)  White Blend   \n\n    winery    critic  index_backwards  \n0  Nicosia  everyone           129971  ",
      "text/html": "<div>\n<style scoped>\n    .dataframe tbody tr th:only-of-type {\n        vertical-align: middle;\n    }\n\n    .dataframe tbody tr th {\n        vertical-align: top;\n    }\n\n    .dataframe thead th {\n        text-align: right;\n    }\n</style>\n<table border=\"1\" class=\"dataframe\">\n  <thead>\n    <tr style=\"text-align: right;\">\n      <th></th>\n      <th>country</th>\n      <th>description</th>\n      <th>designation</th>\n      <th>points</th>\n      <th>price</th>\n      <th>province</th>\n      <th>region_1</th>\n      <th>region_2</th>\n      <th>taster_name</th>\n      <th>taster_twitter_handle</th>\n      <th>title</th>\n      <th>variety</th>\n      <th>winery</th>\n      <th>critic</th>\n      <th>index_backwards</th>\n    </tr>\n  </thead>\n  <tbody>\n    <tr>\n      <th>0</th>\n      <td>Italy</td>\n      <td>Aromas include tropical fruit, broom, brimston...</td>\n      <td>Vulkà Bianco</td>\n      <td>87</td>\n      <td>NaN</td>\n      <td>Sicily &amp; Sardinia</td>\n      <td>Etna</td>\n      <td>NaN</td>\n      <td>Kerin O’Keefe</td>\n      <td>@kerinokeefe</td>\n      <td>Nicosia 2013 Vulkà Bianco  (Etna)</td>\n      <td>White Blend</td>\n      <td>Nicosia</td>\n      <td>everyone</td>\n      <td>129971</td>\n    </tr>\n  </tbody>\n</table>\n</div>"
     },
     "metadata": {},
     "execution_count": 104
    }
   ],
   "source": [
    "reviews.head(1) # to remember"
   ]
  },
  {
   "cell_type": "code",
   "execution_count": 127,
   "metadata": {},
   "outputs": [
    {
     "output_type": "execute_result",
     "data": {
      "text/plain": "88     17207\n87     16933\n90     15410\n86     12600\n89     12226\n91     11359\n92      9613\n85      9530\n93      6489\n84      6480\n94      3758\n83      3025\n82      1836\n95      1535\n81       692\n96       523\n80       397\n97       229\n98        77\n99        33\n100       19\nName: points, dtype: int64"
     },
     "metadata": {},
     "execution_count": 127
    }
   ],
   "source": [
    "reviews.points.value_counts() # is sorted already"
   ]
  },
  {
   "cell_type": "code",
   "execution_count": 140,
   "metadata": {},
   "outputs": [
    {
     "output_type": "execute_result",
     "data": {
      "text/plain": "        country  description  designation  price  province  region_1  \\\npoints                                                                 \n80          397          397          250    395       397       328   \n81          692          692          406    680       692       584   \n82         1835         1836         1087   1772      1835      1556   \n83         3024         3025         1844   2886      3024      2503   \n84         6478         6480         3943   6099      6478      5320   \n85         9529         9530         5980   8902      9529      7722   \n86        12595        12600         8246  11745     12595     10361   \n87        16927        16933        11286  15767     16927     14293   \n88        17198        17207        11831  16014     17198     14503   \n89        12208        12226         8920  11324     12208      9998   \n\n        region_2  taster_name  taster_twitter_handle  title  variety  winery  \\\npoints                                                                         \n80           136          275                    271    397      397     397   \n81           293          433                    423    692      692     692   \n82           907         1054                   1012   1836     1836    1836   \n83          1142         2112                   2021   3025     3025    3025   \n84          2375         4395                   4196   6480     6480    6480   \n85          3308         7133                   6729   9530     9530    9530   \n86          4467         9580                   9006  12600    12600   12600   \n87          6102        12871                  12065  16933    16933   16933   \n88          6538        14356                  13626  17207    17206   17207   \n89          4095        10660                  10056  12226    12226   12226   \n\n        critic  index_backwards  \npoints                           \n80         397              397  \n81         692              692  \n82        1836             1836  \n83        3025             3025  \n84        6480             6480  \n85        9530             9530  \n86       12600            12600  \n87       16933            16933  \n88       17207            17207  \n89       12226            12226  ",
      "text/html": "<div>\n<style scoped>\n    .dataframe tbody tr th:only-of-type {\n        vertical-align: middle;\n    }\n\n    .dataframe tbody tr th {\n        vertical-align: top;\n    }\n\n    .dataframe thead th {\n        text-align: right;\n    }\n</style>\n<table border=\"1\" class=\"dataframe\">\n  <thead>\n    <tr style=\"text-align: right;\">\n      <th></th>\n      <th>country</th>\n      <th>description</th>\n      <th>designation</th>\n      <th>price</th>\n      <th>province</th>\n      <th>region_1</th>\n      <th>region_2</th>\n      <th>taster_name</th>\n      <th>taster_twitter_handle</th>\n      <th>title</th>\n      <th>variety</th>\n      <th>winery</th>\n      <th>critic</th>\n      <th>index_backwards</th>\n    </tr>\n    <tr>\n      <th>points</th>\n      <th></th>\n      <th></th>\n      <th></th>\n      <th></th>\n      <th></th>\n      <th></th>\n      <th></th>\n      <th></th>\n      <th></th>\n      <th></th>\n      <th></th>\n      <th></th>\n      <th></th>\n      <th></th>\n    </tr>\n  </thead>\n  <tbody>\n    <tr>\n      <th>80</th>\n      <td>397</td>\n      <td>397</td>\n      <td>250</td>\n      <td>395</td>\n      <td>397</td>\n      <td>328</td>\n      <td>136</td>\n      <td>275</td>\n      <td>271</td>\n      <td>397</td>\n      <td>397</td>\n      <td>397</td>\n      <td>397</td>\n      <td>397</td>\n    </tr>\n    <tr>\n      <th>81</th>\n      <td>692</td>\n      <td>692</td>\n      <td>406</td>\n      <td>680</td>\n      <td>692</td>\n      <td>584</td>\n      <td>293</td>\n      <td>433</td>\n      <td>423</td>\n      <td>692</td>\n      <td>692</td>\n      <td>692</td>\n      <td>692</td>\n      <td>692</td>\n    </tr>\n    <tr>\n      <th>82</th>\n      <td>1835</td>\n      <td>1836</td>\n      <td>1087</td>\n      <td>1772</td>\n      <td>1835</td>\n      <td>1556</td>\n      <td>907</td>\n      <td>1054</td>\n      <td>1012</td>\n      <td>1836</td>\n      <td>1836</td>\n      <td>1836</td>\n      <td>1836</td>\n      <td>1836</td>\n    </tr>\n    <tr>\n      <th>83</th>\n      <td>3024</td>\n      <td>3025</td>\n      <td>1844</td>\n      <td>2886</td>\n      <td>3024</td>\n      <td>2503</td>\n      <td>1142</td>\n      <td>2112</td>\n      <td>2021</td>\n      <td>3025</td>\n      <td>3025</td>\n      <td>3025</td>\n      <td>3025</td>\n      <td>3025</td>\n    </tr>\n    <tr>\n      <th>84</th>\n      <td>6478</td>\n      <td>6480</td>\n      <td>3943</td>\n      <td>6099</td>\n      <td>6478</td>\n      <td>5320</td>\n      <td>2375</td>\n      <td>4395</td>\n      <td>4196</td>\n      <td>6480</td>\n      <td>6480</td>\n      <td>6480</td>\n      <td>6480</td>\n      <td>6480</td>\n    </tr>\n    <tr>\n      <th>85</th>\n      <td>9529</td>\n      <td>9530</td>\n      <td>5980</td>\n      <td>8902</td>\n      <td>9529</td>\n      <td>7722</td>\n      <td>3308</td>\n      <td>7133</td>\n      <td>6729</td>\n      <td>9530</td>\n      <td>9530</td>\n      <td>9530</td>\n      <td>9530</td>\n      <td>9530</td>\n    </tr>\n    <tr>\n      <th>86</th>\n      <td>12595</td>\n      <td>12600</td>\n      <td>8246</td>\n      <td>11745</td>\n      <td>12595</td>\n      <td>10361</td>\n      <td>4467</td>\n      <td>9580</td>\n      <td>9006</td>\n      <td>12600</td>\n      <td>12600</td>\n      <td>12600</td>\n      <td>12600</td>\n      <td>12600</td>\n    </tr>\n    <tr>\n      <th>87</th>\n      <td>16927</td>\n      <td>16933</td>\n      <td>11286</td>\n      <td>15767</td>\n      <td>16927</td>\n      <td>14293</td>\n      <td>6102</td>\n      <td>12871</td>\n      <td>12065</td>\n      <td>16933</td>\n      <td>16933</td>\n      <td>16933</td>\n      <td>16933</td>\n      <td>16933</td>\n    </tr>\n    <tr>\n      <th>88</th>\n      <td>17198</td>\n      <td>17207</td>\n      <td>11831</td>\n      <td>16014</td>\n      <td>17198</td>\n      <td>14503</td>\n      <td>6538</td>\n      <td>14356</td>\n      <td>13626</td>\n      <td>17207</td>\n      <td>17206</td>\n      <td>17207</td>\n      <td>17207</td>\n      <td>17207</td>\n    </tr>\n    <tr>\n      <th>89</th>\n      <td>12208</td>\n      <td>12226</td>\n      <td>8920</td>\n      <td>11324</td>\n      <td>12208</td>\n      <td>9998</td>\n      <td>4095</td>\n      <td>10660</td>\n      <td>10056</td>\n      <td>12226</td>\n      <td>12226</td>\n      <td>12226</td>\n      <td>12226</td>\n      <td>12226</td>\n    </tr>\n  </tbody>\n</table>\n</div>"
     },
     "metadata": {},
     "execution_count": 140
    }
   ],
   "source": [
    "reviews.groupby('points').count().head(10)"
   ]
  },
  {
   "cell_type": "code",
   "execution_count": 142,
   "metadata": {},
   "outputs": [
    {
     "output_type": "execute_result",
     "data": {
      "text/plain": "points\n80       395\n81       680\n82      1772\n83      2886\n84      6099\n85      8902\n86     11745\n87     15767\n88     16014\n89     11324\n90     14361\n91     10564\n92      8871\n93      5935\n94      3449\n95      1406\n96       482\n97       207\n98        69\n99        28\n100       19\nName: price, dtype: int64"
     },
     "metadata": {},
     "execution_count": 142
    }
   ],
   "source": [
    "reviews.groupby('points').price.count()"
   ]
  },
  {
   "cell_type": "code",
   "execution_count": 103,
   "metadata": {},
   "outputs": [
    {
     "output_type": "execute_result",
     "data": {
      "text/plain": "points\n80      5.0\n81      5.0\n82      4.0\n83      4.0\n84      4.0\n85      4.0\n86      4.0\n87      5.0\n88      6.0\n89      7.0\n90      8.0\n91      7.0\n92     11.0\n93     12.0\n94     13.0\n95     20.0\n96     20.0\n97     35.0\n98     50.0\n99     44.0\n100    80.0\nName: price, dtype: float64"
     },
     "metadata": {},
     "execution_count": 103
    }
   ],
   "source": [
    "reviews.groupby('points').price.min()"
   ]
  },
  {
   "cell_type": "code",
   "execution_count": 105,
   "metadata": {},
   "outputs": [
    {
     "output_type": "execute_result",
     "data": {
      "text/plain": "  country                                        description   designation  \\\n0   Italy  Aromas include tropical fruit, broom, brimston...  Vulkà Bianco   \n\n   points  price           province region_1 region_2    taster_name  \\\n0      87    NaN  Sicily & Sardinia     Etna      NaN  Kerin O’Keefe   \n\n  taster_twitter_handle                              title      variety  \\\n0          @kerinokeefe  Nicosia 2013 Vulkà Bianco  (Etna)  White Blend   \n\n    winery    critic  index_backwards  \n0  Nicosia  everyone           129971  ",
      "text/html": "<div>\n<style scoped>\n    .dataframe tbody tr th:only-of-type {\n        vertical-align: middle;\n    }\n\n    .dataframe tbody tr th {\n        vertical-align: top;\n    }\n\n    .dataframe thead th {\n        text-align: right;\n    }\n</style>\n<table border=\"1\" class=\"dataframe\">\n  <thead>\n    <tr style=\"text-align: right;\">\n      <th></th>\n      <th>country</th>\n      <th>description</th>\n      <th>designation</th>\n      <th>points</th>\n      <th>price</th>\n      <th>province</th>\n      <th>region_1</th>\n      <th>region_2</th>\n      <th>taster_name</th>\n      <th>taster_twitter_handle</th>\n      <th>title</th>\n      <th>variety</th>\n      <th>winery</th>\n      <th>critic</th>\n      <th>index_backwards</th>\n    </tr>\n  </thead>\n  <tbody>\n    <tr>\n      <th>0</th>\n      <td>Italy</td>\n      <td>Aromas include tropical fruit, broom, brimston...</td>\n      <td>Vulkà Bianco</td>\n      <td>87</td>\n      <td>NaN</td>\n      <td>Sicily &amp; Sardinia</td>\n      <td>Etna</td>\n      <td>NaN</td>\n      <td>Kerin O’Keefe</td>\n      <td>@kerinokeefe</td>\n      <td>Nicosia 2013 Vulkà Bianco  (Etna)</td>\n      <td>White Blend</td>\n      <td>Nicosia</td>\n      <td>everyone</td>\n      <td>129971</td>\n    </tr>\n  </tbody>\n</table>\n</div>"
     },
     "metadata": {},
     "execution_count": 105
    }
   ],
   "source": [
    "reviews.head(1) # to remember"
   ]
  },
  {
   "cell_type": "code",
   "execution_count": 145,
   "metadata": {},
   "outputs": [
    {
     "output_type": "execute_result",
     "data": {
      "text/plain": "winery          \n1+1=3     20319                        1+1=3 NV Rosé Sparkling (Cava)\n          33657     1+1=3 NV Cygnus Brut Nature Reserva Made With ...\n          55163                        1+1=3 NV Brut Sparkling (Cava)\n          56109     1+1=3 NV Cygnus Brut Nature Reserva Made With ...\n          63807          1+1=3 2008 Rosé Cabernet Sauvignon (Penedès)\n                                          ...                        \nàMaurice  124544           àMaurice 2009 Syrah (Columbia Valley (WA))\n          128023       àMaurice NV Pour Me Red (Columbia Valley (WA))\nŠtoka     10290                       Štoka 2009 Izbrani Teran (Kras)\n          70504                    Štoka 2011 Grganja Vitovska (Kras)\n          70505                       Štoka 2011 Izbrani Teran (Kras)\nName: title, Length: 129971, dtype: object"
     },
     "metadata": {},
     "execution_count": 145
    }
   ],
   "source": [
    "# name of wines reviewed from each winery in the dataset\n",
    "reviews.groupby('winery').apply(lambda df: df.title)"
   ]
  },
  {
   "cell_type": "code",
   "execution_count": 144,
   "metadata": {},
   "outputs": [
    {
     "output_type": "execute_result",
     "data": {
      "text/plain": "winery\n1+1=3                                     1+1=3 NV Rosé Sparkling (Cava)\n10 Knots                            10 Knots 2010 Viognier (Paso Robles)\n100 Percent Wine              100 Percent Wine 2015 Moscato (California)\n1000 Stories           1000 Stories 2013 Bourbon Barrel Aged Zinfande...\n1070 Green                  1070 Green 2011 Sauvignon Blanc (Rutherford)\n                                             ...                        \nÓrale                       Órale 2011 Cabronita Red (Santa Ynez Valley)\nÖko                    Öko 2013 Made With Organically Grown Grapes Ma...\nÖkonomierat Rebholz    Ökonomierat Rebholz 2007 Von Rotliegenden Spät...\nàMaurice               àMaurice 2013 Fred Estate Syrah (Walla Walla V...\nŠtoka                                    Štoka 2009 Izbrani Teran (Kras)\nLength: 16757, dtype: object"
     },
     "metadata": {},
     "execution_count": 144
    }
   ],
   "source": [
    "# selecting the name of the first wine reviewed from each winery in the dataset\n",
    "reviews.groupby('winery').apply(lambda df: df.title.iloc[0]) # .iloc[0] selects all row "
   ]
  },
  {
   "cell_type": "code",
   "execution_count": 158,
   "metadata": {},
   "outputs": [
    {
     "output_type": "execute_result",
     "data": {
      "text/plain": "                            description  designation  points  price  region_1  \\\ncountry   province                                                              \nArgentina Mendoza Province         3264         2500    3264   3226      3211   \n          Other                     536          402     536    530       536   \nArmenia   Armenia                     2            2       2      2         0   \nAustralia Australia Other           245          144     245    236       245   \n          New South Wales            85           50      85     85        85   \n          South Australia          1349         1040    1349   1331      1347   \n\n                            region_2  taster_name  taster_twitter_handle  \\\ncountry   province                                                         \nArgentina Mendoza Province         0         3261                   3261   \n          Other                    0          536                    536   \nArmenia   Armenia                  0            2                      2   \nAustralia Australia Other          0          196                    196   \n          New South Wales          0           76                     76   \n          South Australia          0         1183                   1183   \n\n                            title  variety  winery  critic  index_backwards  \ncountry   province                                                           \nArgentina Mendoza Province   3264     3264    3264    3264             3264  \n          Other               536      536     536     536              536  \nArmenia   Armenia               2        2       2       2                2  \nAustralia Australia Other     245      245     245     245              245  \n          New South Wales      85       85      85      85               85  \n          South Australia    1349     1349    1349    1349             1349  ",
      "text/html": "<div>\n<style scoped>\n    .dataframe tbody tr th:only-of-type {\n        vertical-align: middle;\n    }\n\n    .dataframe tbody tr th {\n        vertical-align: top;\n    }\n\n    .dataframe thead th {\n        text-align: right;\n    }\n</style>\n<table border=\"1\" class=\"dataframe\">\n  <thead>\n    <tr style=\"text-align: right;\">\n      <th></th>\n      <th></th>\n      <th>description</th>\n      <th>designation</th>\n      <th>points</th>\n      <th>price</th>\n      <th>region_1</th>\n      <th>region_2</th>\n      <th>taster_name</th>\n      <th>taster_twitter_handle</th>\n      <th>title</th>\n      <th>variety</th>\n      <th>winery</th>\n      <th>critic</th>\n      <th>index_backwards</th>\n    </tr>\n    <tr>\n      <th>country</th>\n      <th>province</th>\n      <th></th>\n      <th></th>\n      <th></th>\n      <th></th>\n      <th></th>\n      <th></th>\n      <th></th>\n      <th></th>\n      <th></th>\n      <th></th>\n      <th></th>\n      <th></th>\n      <th></th>\n    </tr>\n  </thead>\n  <tbody>\n    <tr>\n      <th rowspan=\"2\" valign=\"top\">Argentina</th>\n      <th>Mendoza Province</th>\n      <td>3264</td>\n      <td>2500</td>\n      <td>3264</td>\n      <td>3226</td>\n      <td>3211</td>\n      <td>0</td>\n      <td>3261</td>\n      <td>3261</td>\n      <td>3264</td>\n      <td>3264</td>\n      <td>3264</td>\n      <td>3264</td>\n      <td>3264</td>\n    </tr>\n    <tr>\n      <th>Other</th>\n      <td>536</td>\n      <td>402</td>\n      <td>536</td>\n      <td>530</td>\n      <td>536</td>\n      <td>0</td>\n      <td>536</td>\n      <td>536</td>\n      <td>536</td>\n      <td>536</td>\n      <td>536</td>\n      <td>536</td>\n      <td>536</td>\n    </tr>\n    <tr>\n      <th>Armenia</th>\n      <th>Armenia</th>\n      <td>2</td>\n      <td>2</td>\n      <td>2</td>\n      <td>2</td>\n      <td>0</td>\n      <td>0</td>\n      <td>2</td>\n      <td>2</td>\n      <td>2</td>\n      <td>2</td>\n      <td>2</td>\n      <td>2</td>\n      <td>2</td>\n    </tr>\n    <tr>\n      <th rowspan=\"3\" valign=\"top\">Australia</th>\n      <th>Australia Other</th>\n      <td>245</td>\n      <td>144</td>\n      <td>245</td>\n      <td>236</td>\n      <td>245</td>\n      <td>0</td>\n      <td>196</td>\n      <td>196</td>\n      <td>245</td>\n      <td>245</td>\n      <td>245</td>\n      <td>245</td>\n      <td>245</td>\n    </tr>\n    <tr>\n      <th>New South Wales</th>\n      <td>85</td>\n      <td>50</td>\n      <td>85</td>\n      <td>85</td>\n      <td>85</td>\n      <td>0</td>\n      <td>76</td>\n      <td>76</td>\n      <td>85</td>\n      <td>85</td>\n      <td>85</td>\n      <td>85</td>\n      <td>85</td>\n    </tr>\n    <tr>\n      <th>South Australia</th>\n      <td>1349</td>\n      <td>1040</td>\n      <td>1349</td>\n      <td>1331</td>\n      <td>1347</td>\n      <td>0</td>\n      <td>1183</td>\n      <td>1183</td>\n      <td>1349</td>\n      <td>1349</td>\n      <td>1349</td>\n      <td>1349</td>\n      <td>1349</td>\n    </tr>\n  </tbody>\n</table>\n</div>"
     },
     "metadata": {},
     "execution_count": 158
    }
   ],
   "source": [
    "# counts after grouping by country and province:\n",
    "reviews.groupby(['country', 'province']).count().head(6)"
   ]
  },
  {
   "cell_type": "code",
   "execution_count": 169,
   "metadata": {},
   "outputs": [
    {
     "output_type": "execute_result",
     "data": {
      "text/plain": "                              country  \\\ncountry   province                      \nArgentina Mendoza Province  Argentina   \n          Other             Argentina   \nArmenia   Armenia             Armenia   \nAustralia Australia Other   Australia   \n          New South Wales   Australia   \n          South Australia   Australia   \n\n                                                                  description  \\\ncountry   province                                                              \nArgentina Mendoza Province  If the color doesn't tell the full story, the ...   \n          Other             Take note, this could be the best wine Colomé ...   \nArmenia   Armenia           Deep salmon in color, this wine offers a bouqu...   \nAustralia Australia Other   Writes the book on how to make a wine filled w...   \n          New South Wales   De Bortoli's Noble One is as good as ever in 2...   \n          South Australia   This inky, embryonic wine deserves to be cella...   \n\n                                   designation  points  price  \\\ncountry   province                                              \nArgentina Mendoza Province    Nicasia Vineyard      97  120.0   \n          Other                        Reserva      95   90.0   \nArmenia   Armenia               Estate Bottled      88   15.0   \nAustralia Australia Other        Sarah's Blend      93   15.0   \n          New South Wales   Noble One Bortytis      94   32.0   \n          South Australia               Grange      99  850.0   \n\n                                    province                 region_1  \\\ncountry   province                                                      \nArgentina Mendoza Province  Mendoza Province                  Mendoza   \n          Other                        Other                    Salta   \nArmenia   Armenia                    Armenia                      NaN   \nAustralia Australia Other    Australia Other  South Eastern Australia   \n          New South Wales    New South Wales          New South Wales   \n          South Australia    South Australia          South Australia   \n\n                           region_2        taster_name taster_twitter_handle  \\\ncountry   province                                                             \nArgentina Mendoza Province      NaN  Michael Schachner           @wineschach   \n          Other                 NaN  Michael Schachner           @wineschach   \nArmenia   Armenia               NaN      Mike DeSimone        @worldwineguys   \nAustralia Australia Other       NaN                NaN                   NaN   \n          New South Wales       NaN     Joe Czerwinski                @JoeCz   \n          South Australia       NaN     Joe Czerwinski                @JoeCz   \n\n                                                                        title  \\\ncountry   province                                                              \nArgentina Mendoza Province  Bodega Catena Zapata 2006 Nicasia Vineyard Mal...   \n          Other                            Colomé 2010 Reserva Malbec (Salta)   \nArmenia   Armenia                 Van Ardi 2015 Estate Bottled Rosé (Armenia)   \nAustralia Australia Other   Marquis Philips 2000 Sarah's Blend Red (South ...   \n          New South Wales   De Bortoli 2007 Noble One Bortytis Semillon (N...   \n          South Australia       Penfolds 2010 Grange Shiraz (South Australia)   \n\n                              variety                winery    critic  \\\ncountry   province                                                      \nArgentina Mendoza Province     Malbec  Bodega Catena Zapata  everyone   \n          Other                Malbec                Colomé  everyone   \nArmenia   Armenia                Rosé              Van Ardi  everyone   \nAustralia Australia Other   Red Blend       Marquis Philips  everyone   \n          New South Wales    Sémillon            De Bortoli  everyone   \n          South Australia      Shiraz              Penfolds  everyone   \n\n                            index_backwards  \ncountry   province                           \nArgentina Mendoza Province            47217  \n          Other                       51668  \nArmenia   Armenia                     63825  \nAustralia Australia Other             92089  \n          New South Wales             44634  \n          South Australia             73018  ",
      "text/html": "<div>\n<style scoped>\n    .dataframe tbody tr th:only-of-type {\n        vertical-align: middle;\n    }\n\n    .dataframe tbody tr th {\n        vertical-align: top;\n    }\n\n    .dataframe thead th {\n        text-align: right;\n    }\n</style>\n<table border=\"1\" class=\"dataframe\">\n  <thead>\n    <tr style=\"text-align: right;\">\n      <th></th>\n      <th></th>\n      <th>country</th>\n      <th>description</th>\n      <th>designation</th>\n      <th>points</th>\n      <th>price</th>\n      <th>province</th>\n      <th>region_1</th>\n      <th>region_2</th>\n      <th>taster_name</th>\n      <th>taster_twitter_handle</th>\n      <th>title</th>\n      <th>variety</th>\n      <th>winery</th>\n      <th>critic</th>\n      <th>index_backwards</th>\n    </tr>\n    <tr>\n      <th>country</th>\n      <th>province</th>\n      <th></th>\n      <th></th>\n      <th></th>\n      <th></th>\n      <th></th>\n      <th></th>\n      <th></th>\n      <th></th>\n      <th></th>\n      <th></th>\n      <th></th>\n      <th></th>\n      <th></th>\n      <th></th>\n      <th></th>\n    </tr>\n  </thead>\n  <tbody>\n    <tr>\n      <th rowspan=\"2\" valign=\"top\">Argentina</th>\n      <th>Mendoza Province</th>\n      <td>Argentina</td>\n      <td>If the color doesn't tell the full story, the ...</td>\n      <td>Nicasia Vineyard</td>\n      <td>97</td>\n      <td>120.0</td>\n      <td>Mendoza Province</td>\n      <td>Mendoza</td>\n      <td>NaN</td>\n      <td>Michael Schachner</td>\n      <td>@wineschach</td>\n      <td>Bodega Catena Zapata 2006 Nicasia Vineyard Mal...</td>\n      <td>Malbec</td>\n      <td>Bodega Catena Zapata</td>\n      <td>everyone</td>\n      <td>47217</td>\n    </tr>\n    <tr>\n      <th>Other</th>\n      <td>Argentina</td>\n      <td>Take note, this could be the best wine Colomé ...</td>\n      <td>Reserva</td>\n      <td>95</td>\n      <td>90.0</td>\n      <td>Other</td>\n      <td>Salta</td>\n      <td>NaN</td>\n      <td>Michael Schachner</td>\n      <td>@wineschach</td>\n      <td>Colomé 2010 Reserva Malbec (Salta)</td>\n      <td>Malbec</td>\n      <td>Colomé</td>\n      <td>everyone</td>\n      <td>51668</td>\n    </tr>\n    <tr>\n      <th>Armenia</th>\n      <th>Armenia</th>\n      <td>Armenia</td>\n      <td>Deep salmon in color, this wine offers a bouqu...</td>\n      <td>Estate Bottled</td>\n      <td>88</td>\n      <td>15.0</td>\n      <td>Armenia</td>\n      <td>NaN</td>\n      <td>NaN</td>\n      <td>Mike DeSimone</td>\n      <td>@worldwineguys</td>\n      <td>Van Ardi 2015 Estate Bottled Rosé (Armenia)</td>\n      <td>Rosé</td>\n      <td>Van Ardi</td>\n      <td>everyone</td>\n      <td>63825</td>\n    </tr>\n    <tr>\n      <th rowspan=\"3\" valign=\"top\">Australia</th>\n      <th>Australia Other</th>\n      <td>Australia</td>\n      <td>Writes the book on how to make a wine filled w...</td>\n      <td>Sarah's Blend</td>\n      <td>93</td>\n      <td>15.0</td>\n      <td>Australia Other</td>\n      <td>South Eastern Australia</td>\n      <td>NaN</td>\n      <td>NaN</td>\n      <td>NaN</td>\n      <td>Marquis Philips 2000 Sarah's Blend Red (South ...</td>\n      <td>Red Blend</td>\n      <td>Marquis Philips</td>\n      <td>everyone</td>\n      <td>92089</td>\n    </tr>\n    <tr>\n      <th>New South Wales</th>\n      <td>Australia</td>\n      <td>De Bortoli's Noble One is as good as ever in 2...</td>\n      <td>Noble One Bortytis</td>\n      <td>94</td>\n      <td>32.0</td>\n      <td>New South Wales</td>\n      <td>New South Wales</td>\n      <td>NaN</td>\n      <td>Joe Czerwinski</td>\n      <td>@JoeCz</td>\n      <td>De Bortoli 2007 Noble One Bortytis Semillon (N...</td>\n      <td>Sémillon</td>\n      <td>De Bortoli</td>\n      <td>everyone</td>\n      <td>44634</td>\n    </tr>\n    <tr>\n      <th>South Australia</th>\n      <td>Australia</td>\n      <td>This inky, embryonic wine deserves to be cella...</td>\n      <td>Grange</td>\n      <td>99</td>\n      <td>850.0</td>\n      <td>South Australia</td>\n      <td>South Australia</td>\n      <td>NaN</td>\n      <td>Joe Czerwinski</td>\n      <td>@JoeCz</td>\n      <td>Penfolds 2010 Grange Shiraz (South Australia)</td>\n      <td>Shiraz</td>\n      <td>Penfolds</td>\n      <td>everyone</td>\n      <td>73018</td>\n    </tr>\n  </tbody>\n</table>\n</div>"
     },
     "metadata": {},
     "execution_count": 169
    }
   ],
   "source": [
    "#  pick out the best wine by country and province\n",
    "reviews.groupby(['country', 'province']).apply(lambda df: df.loc[df.points.idxmax()]).head(6) # df.points.idxmax() = index ; \n",
    "                                                                                      # thus : df.loc[df.points.idxmax()] = df.loc[index]"
   ]
  },
  {
   "cell_type": "code",
   "execution_count": 168,
   "metadata": {},
   "outputs": [
    {
     "output_type": "execute_result",
     "data": {
      "text/plain": "                           len   min     max\ncountry                                     \nArgentina               3800.0   4.0   230.0\nArmenia                    2.0  14.0    15.0\nAustralia               2329.0   5.0   850.0\nAustria                 3345.0   7.0  1100.0\nBosnia and Herzegovina     2.0  12.0    13.0\nBrazil                    52.0  10.0    60.0",
      "text/html": "<div>\n<style scoped>\n    .dataframe tbody tr th:only-of-type {\n        vertical-align: middle;\n    }\n\n    .dataframe tbody tr th {\n        vertical-align: top;\n    }\n\n    .dataframe thead th {\n        text-align: right;\n    }\n</style>\n<table border=\"1\" class=\"dataframe\">\n  <thead>\n    <tr style=\"text-align: right;\">\n      <th></th>\n      <th>len</th>\n      <th>min</th>\n      <th>max</th>\n    </tr>\n    <tr>\n      <th>country</th>\n      <th></th>\n      <th></th>\n      <th></th>\n    </tr>\n  </thead>\n  <tbody>\n    <tr>\n      <th>Argentina</th>\n      <td>3800.0</td>\n      <td>4.0</td>\n      <td>230.0</td>\n    </tr>\n    <tr>\n      <th>Armenia</th>\n      <td>2.0</td>\n      <td>14.0</td>\n      <td>15.0</td>\n    </tr>\n    <tr>\n      <th>Australia</th>\n      <td>2329.0</td>\n      <td>5.0</td>\n      <td>850.0</td>\n    </tr>\n    <tr>\n      <th>Austria</th>\n      <td>3345.0</td>\n      <td>7.0</td>\n      <td>1100.0</td>\n    </tr>\n    <tr>\n      <th>Bosnia and Herzegovina</th>\n      <td>2.0</td>\n      <td>12.0</td>\n      <td>13.0</td>\n    </tr>\n    <tr>\n      <th>Brazil</th>\n      <td>52.0</td>\n      <td>10.0</td>\n      <td>60.0</td>\n    </tr>\n  </tbody>\n</table>\n</div>"
     },
     "metadata": {},
     "execution_count": 168
    }
   ],
   "source": [
    "reviews.groupby(['country']).price.agg([len, min, max]).head(6)"
   ]
  },
  {
   "cell_type": "markdown",
   "metadata": {},
   "source": [
    "### Multi-indexes"
   ]
  },
  {
   "cell_type": "code",
   "execution_count": null,
   "metadata": {},
   "outputs": [],
   "source": []
  }
 ],
 "metadata": {
  "language_info": {
   "codemirror_mode": {
    "name": "ipython",
    "version": 3
   },
   "file_extension": ".py",
   "mimetype": "text/x-python",
   "name": "python",
   "nbconvert_exporter": "python",
   "pygments_lexer": "ipython3",
   "version": "3.7.6-final"
  },
  "orig_nbformat": 2,
  "kernelspec": {
   "name": "python37664bitcondaf50e52564a3e43b287a10ea35f8402b9",
   "display_name": "Python 3.7.6 64-bit (conda)"
  }
 },
 "nbformat": 4,
 "nbformat_minor": 2
}