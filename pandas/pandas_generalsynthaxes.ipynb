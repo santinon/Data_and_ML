{
 "cells": [
  {
   "cell_type": "markdown",
   "metadata": {},
   "source": [
    "# 1 Creating, reading & writing"
   ]
  },
  {
   "cell_type": "code",
   "execution_count": 1,
   "metadata": {},
   "outputs": [],
   "source": [
    "import pandas as pd"
   ]
  },
  {
   "cell_type": "markdown",
   "metadata": {},
   "source": [
    "## DataFrame"
   ]
  },
  {
   "cell_type": "code",
   "execution_count": 2,
   "metadata": {},
   "outputs": [
    {
     "output_type": "execute_result",
     "data": {
      "text/plain": "   Yes   No\n0   50  131\n1   21    2",
      "text/html": "<div>\n<style scoped>\n    .dataframe tbody tr th:only-of-type {\n        vertical-align: middle;\n    }\n\n    .dataframe tbody tr th {\n        vertical-align: top;\n    }\n\n    .dataframe thead th {\n        text-align: right;\n    }\n</style>\n<table border=\"1\" class=\"dataframe\">\n  <thead>\n    <tr style=\"text-align: right;\">\n      <th></th>\n      <th>Yes</th>\n      <th>No</th>\n    </tr>\n  </thead>\n  <tbody>\n    <tr>\n      <th>0</th>\n      <td>50</td>\n      <td>131</td>\n    </tr>\n    <tr>\n      <th>1</th>\n      <td>21</td>\n      <td>2</td>\n    </tr>\n  </tbody>\n</table>\n</div>"
     },
     "metadata": {},
     "execution_count": 2
    }
   ],
   "source": [
    "pd.DataFrame({'Yes': [50, 21], 'No': [131, 2]})"
   ]
  },
  {
   "cell_type": "code",
   "execution_count": 3,
   "metadata": {},
   "outputs": [
    {
     "output_type": "execute_result",
     "data": {
      "text/plain": "             Bob           Sue\n0    I liked it.  Pretty good.\n1  It was awful.        Bland.",
      "text/html": "<div>\n<style scoped>\n    .dataframe tbody tr th:only-of-type {\n        vertical-align: middle;\n    }\n\n    .dataframe tbody tr th {\n        vertical-align: top;\n    }\n\n    .dataframe thead th {\n        text-align: right;\n    }\n</style>\n<table border=\"1\" class=\"dataframe\">\n  <thead>\n    <tr style=\"text-align: right;\">\n      <th></th>\n      <th>Bob</th>\n      <th>Sue</th>\n    </tr>\n  </thead>\n  <tbody>\n    <tr>\n      <th>0</th>\n      <td>I liked it.</td>\n      <td>Pretty good.</td>\n    </tr>\n    <tr>\n      <th>1</th>\n      <td>It was awful.</td>\n      <td>Bland.</td>\n    </tr>\n  </tbody>\n</table>\n</div>"
     },
     "metadata": {},
     "execution_count": 3
    }
   ],
   "source": [
    "pd.DataFrame({'Bob': ['I liked it.', 'It was awful.'], \n",
    "              'Sue': ['Pretty good.', 'Bland.']})"
   ]
  },
  {
   "cell_type": "code",
   "execution_count": 4,
   "metadata": {},
   "outputs": [
    {
     "output_type": "execute_result",
     "data": {
      "text/plain": "                     Bob           Sue\nProduct A    I liked it.  Pretty good.\nProduct B  It was awful.        Bland.",
      "text/html": "<div>\n<style scoped>\n    .dataframe tbody tr th:only-of-type {\n        vertical-align: middle;\n    }\n\n    .dataframe tbody tr th {\n        vertical-align: top;\n    }\n\n    .dataframe thead th {\n        text-align: right;\n    }\n</style>\n<table border=\"1\" class=\"dataframe\">\n  <thead>\n    <tr style=\"text-align: right;\">\n      <th></th>\n      <th>Bob</th>\n      <th>Sue</th>\n    </tr>\n  </thead>\n  <tbody>\n    <tr>\n      <th>Product A</th>\n      <td>I liked it.</td>\n      <td>Pretty good.</td>\n    </tr>\n    <tr>\n      <th>Product B</th>\n      <td>It was awful.</td>\n      <td>Bland.</td>\n    </tr>\n  </tbody>\n</table>\n</div>"
     },
     "metadata": {},
     "execution_count": 4
    }
   ],
   "source": [
    "pd.DataFrame({'Bob': ['I liked it.', 'It was awful.'], \n",
    "              'Sue': ['Pretty good.', 'Bland.']},\n",
    "             index=['Product A', 'Product B'])"
   ]
  },
  {
   "cell_type": "markdown",
   "metadata": {},
   "source": [
    "## Series"
   ]
  },
  {
   "cell_type": "code",
   "execution_count": 5,
   "metadata": {},
   "outputs": [
    {
     "output_type": "execute_result",
     "data": {
      "text/plain": "0    1\n1    2\n2    3\n3    4\n4    5\ndtype: int64"
     },
     "metadata": {},
     "execution_count": 5
    }
   ],
   "source": [
    "pd.Series([1, 2, 3, 4, 5])"
   ]
  },
  {
   "cell_type": "code",
   "execution_count": 6,
   "metadata": {},
   "outputs": [
    {
     "output_type": "execute_result",
     "data": {
      "text/plain": "2015 Sales    30\n2016 Sales    35\n2017 Sales    40\nName: Product A, dtype: int64"
     },
     "metadata": {},
     "execution_count": 6
    }
   ],
   "source": [
    "pd.Series([30, 35, 40], \n",
    "           index=['2015 Sales', '2016 Sales', '2017 Sales'],\n",
    "           name='Product A')"
   ]
  },
  {
   "cell_type": "code",
   "execution_count": 7,
   "metadata": {},
   "outputs": [],
   "source": [
    "# open and indexing df\n",
    "reviews = pd.read_csv(\"/home/gluecksman/src/Data_and_ML/pandas/winemag-data-130k-v2.csv\", index_col=0)\n",
    "\n",
    "# saving df to something\n",
    "reviews.to_csv(\"just_a_fancy_test_name.csv\")"
   ]
  },
  {
   "cell_type": "markdown",
   "metadata": {},
   "source": [
    "# 2 Indexing, selecting & assigning"
   ]
  },
  {
   "cell_type": "code",
   "execution_count": 22,
   "metadata": {},
   "outputs": [
    {
     "output_type": "execute_result",
     "data": {
      "text/plain": "    country                                        description   designation  \\\n0     Italy  Aromas include tropical fruit, broom, brimston...  Vulkà Bianco   \n1  Portugal  This is ripe and fruity, a wine that is smooth...      Avidagos   \n\n   points  price           province region_1 region_2    taster_name  \\\n0      87    NaN  Sicily & Sardinia     Etna      NaN  Kerin O’Keefe   \n1      87   15.0              Douro      NaN      NaN     Roger Voss   \n\n  taster_twitter_handle                                          title  \\\n0          @kerinokeefe              Nicosia 2013 Vulkà Bianco  (Etna)   \n1            @vossroger  Quinta dos Avidagos 2011 Avidagos Red (Douro)   \n\n          variety               winery    critic  index_backwards  \n0     White Blend              Nicosia  everyone           129971  \n1  Portuguese Red  Quinta dos Avidagos  everyone           129970  ",
      "text/html": "<div>\n<style scoped>\n    .dataframe tbody tr th:only-of-type {\n        vertical-align: middle;\n    }\n\n    .dataframe tbody tr th {\n        vertical-align: top;\n    }\n\n    .dataframe thead th {\n        text-align: right;\n    }\n</style>\n<table border=\"1\" class=\"dataframe\">\n  <thead>\n    <tr style=\"text-align: right;\">\n      <th></th>\n      <th>country</th>\n      <th>description</th>\n      <th>designation</th>\n      <th>points</th>\n      <th>price</th>\n      <th>province</th>\n      <th>region_1</th>\n      <th>region_2</th>\n      <th>taster_name</th>\n      <th>taster_twitter_handle</th>\n      <th>title</th>\n      <th>variety</th>\n      <th>winery</th>\n      <th>critic</th>\n      <th>index_backwards</th>\n    </tr>\n  </thead>\n  <tbody>\n    <tr>\n      <th>0</th>\n      <td>Italy</td>\n      <td>Aromas include tropical fruit, broom, brimston...</td>\n      <td>Vulkà Bianco</td>\n      <td>87</td>\n      <td>NaN</td>\n      <td>Sicily &amp; Sardinia</td>\n      <td>Etna</td>\n      <td>NaN</td>\n      <td>Kerin O’Keefe</td>\n      <td>@kerinokeefe</td>\n      <td>Nicosia 2013 Vulkà Bianco  (Etna)</td>\n      <td>White Blend</td>\n      <td>Nicosia</td>\n      <td>everyone</td>\n      <td>129971</td>\n    </tr>\n    <tr>\n      <th>1</th>\n      <td>Portugal</td>\n      <td>This is ripe and fruity, a wine that is smooth...</td>\n      <td>Avidagos</td>\n      <td>87</td>\n      <td>15.0</td>\n      <td>Douro</td>\n      <td>NaN</td>\n      <td>NaN</td>\n      <td>Roger Voss</td>\n      <td>@vossroger</td>\n      <td>Quinta dos Avidagos 2011 Avidagos Red (Douro)</td>\n      <td>Portuguese Red</td>\n      <td>Quinta dos Avidagos</td>\n      <td>everyone</td>\n      <td>129970</td>\n    </tr>\n  </tbody>\n</table>\n</div>"
     },
     "metadata": {},
     "execution_count": 22
    }
   ],
   "source": [
    "# to remember\n",
    "reviews.head(2)"
   ]
  },
  {
   "cell_type": "code",
   "execution_count": 8,
   "metadata": {},
   "outputs": [
    {
     "output_type": "execute_result",
     "data": {
      "text/plain": "0       Italy\n1    Portugal\n2          US\n3          US\n4          US\n5       Spain\n6       Italy\n7      France\n8     Germany\n9      France\nName: country, dtype: object"
     },
     "metadata": {},
     "execution_count": 8
    }
   ],
   "source": [
    "reviews.country\n",
    "# same as \n",
    "reviews['country']\n",
    "\n",
    "\n",
    "# further, we can do this:\n",
    "reviews['country'][0] # selects 1st\n",
    "reviews['country'][0:10] # selects from 1st - 10th"
   ]
  },
  {
   "cell_type": "markdown",
   "metadata": {},
   "source": [
    "### index-based selection\n",
    "first element of the range is included and the last one excluded"
   ]
  },
  {
   "cell_type": "code",
   "execution_count": 9,
   "metadata": {},
   "outputs": [],
   "source": [
    "# index-based selection\n",
    "reviews.iloc[0] # selects all row (and thus, the different columns' values)\n",
    "\n",
    "# to get a column with iloc\n",
    "reviews.iloc[:, 0] # selects all the column i= 0\n",
    "\n",
    "# both below are =\n",
    "reviews.iloc[:3, 0] # selects from the column i= 0, the 1st, 2nd and 3rd row\n",
    "reviews.iloc[[0, 1, 2], 0] # the same\n",
    "\n",
    "reviews.iloc[1:3, 0] # selects, from the column i= 0, JUST 2nd & 3rd entries\n",
    "\n",
    "reviews.iloc[-5:] # selects last five rows (with all the column's content)\n",
    "\n",
    "sample_reviews = reviews.iloc[[1, 2, 3, 5, 8], :] # selects the rows 1, 2, 3, 5, 8 entirely (with all the columns)"
   ]
  },
  {
   "cell_type": "markdown",
   "metadata": {},
   "source": [
    "### Label-based selection\n",
    "indexes inclusively"
   ]
  },
  {
   "cell_type": "code",
   "execution_count": 64,
   "metadata": {},
   "outputs": [],
   "source": [
    "# label-based selection\n",
    "reviews.loc[:, ['taster_name', 'taster_twitter_handle', 'points']] # selects rows from the desired columns \n",
    "\n",
    "# Manipulating the index\n",
    "reviews.set_index(\"title\")\n",
    "\n",
    "# Conditional selection\n",
    "reviews.country == 'Italy' #  produced a Series of True/False booleans based on the country of each record\n",
    "\n",
    "reviews.loc[reviews.country == 'Italy'] # selects rows where column 'country' == 'italy'\n",
    "reviews.loc[(reviews.country == 'Italy') & (reviews.points >= 90)] # and where the column 'points' ==result > 90\n",
    "reviews.loc[(reviews.country == 'Italy') | (reviews.points >= 90)] # or (same thing otherwise)\n",
    "\n",
    "# isin lets you select the data whose value \"is in\" a list of values\n",
    "reviews.loc[reviews.country.isin(['Italy', 'France'])]\n",
    "\n",
    "# isnull/notnull\n",
    "reviews.loc[reviews.price.notnull()] # selects rows that are non-null/non-NaN in the 'price' column\n",
    "reviews.loc[reviews.price.isnull()] # selects rows that are null/NaN in the 'price' column\n",
    "\n",
    "# assigning data to a df\n",
    "reviews['critic'] = 'everyone'\n",
    "reviews['index_backwards'] = range(len(reviews), 0, -1) # \"-1\" means backwards otherwise the range is not working "
   ]
  },
  {
   "cell_type": "markdown",
   "metadata": {},
   "source": [
    "# 3 Summary functions & Maps"
   ]
  },
  {
   "cell_type": "code",
   "execution_count": 43,
   "metadata": {},
   "outputs": [
    {
     "output_type": "execute_result",
     "data": {
      "text/plain": "    country                                        description   designation  \\\n0     Italy  Aromas include tropical fruit, broom, brimston...  Vulkà Bianco   \n1  Portugal  This is ripe and fruity, a wine that is smooth...      Avidagos   \n\n   points  price           province region_1 region_2    taster_name  \\\n0      87    NaN  Sicily & Sardinia     Etna      NaN  Kerin O’Keefe   \n1      87   15.0              Douro      NaN      NaN     Roger Voss   \n\n  taster_twitter_handle                                          title  \\\n0          @kerinokeefe              Nicosia 2013 Vulkà Bianco  (Etna)   \n1            @vossroger  Quinta dos Avidagos 2011 Avidagos Red (Douro)   \n\n          variety               winery    critic  index_backwards  \n0     White Blend              Nicosia  everyone           129971  \n1  Portuguese Red  Quinta dos Avidagos  everyone           129970  ",
      "text/html": "<div>\n<style scoped>\n    .dataframe tbody tr th:only-of-type {\n        vertical-align: middle;\n    }\n\n    .dataframe tbody tr th {\n        vertical-align: top;\n    }\n\n    .dataframe thead th {\n        text-align: right;\n    }\n</style>\n<table border=\"1\" class=\"dataframe\">\n  <thead>\n    <tr style=\"text-align: right;\">\n      <th></th>\n      <th>country</th>\n      <th>description</th>\n      <th>designation</th>\n      <th>points</th>\n      <th>price</th>\n      <th>province</th>\n      <th>region_1</th>\n      <th>region_2</th>\n      <th>taster_name</th>\n      <th>taster_twitter_handle</th>\n      <th>title</th>\n      <th>variety</th>\n      <th>winery</th>\n      <th>critic</th>\n      <th>index_backwards</th>\n    </tr>\n  </thead>\n  <tbody>\n    <tr>\n      <th>0</th>\n      <td>Italy</td>\n      <td>Aromas include tropical fruit, broom, brimston...</td>\n      <td>Vulkà Bianco</td>\n      <td>87</td>\n      <td>NaN</td>\n      <td>Sicily &amp; Sardinia</td>\n      <td>Etna</td>\n      <td>NaN</td>\n      <td>Kerin O’Keefe</td>\n      <td>@kerinokeefe</td>\n      <td>Nicosia 2013 Vulkà Bianco  (Etna)</td>\n      <td>White Blend</td>\n      <td>Nicosia</td>\n      <td>everyone</td>\n      <td>129971</td>\n    </tr>\n    <tr>\n      <th>1</th>\n      <td>Portugal</td>\n      <td>This is ripe and fruity, a wine that is smooth...</td>\n      <td>Avidagos</td>\n      <td>87</td>\n      <td>15.0</td>\n      <td>Douro</td>\n      <td>NaN</td>\n      <td>NaN</td>\n      <td>Roger Voss</td>\n      <td>@vossroger</td>\n      <td>Quinta dos Avidagos 2011 Avidagos Red (Douro)</td>\n      <td>Portuguese Red</td>\n      <td>Quinta dos Avidagos</td>\n      <td>everyone</td>\n      <td>129970</td>\n    </tr>\n  </tbody>\n</table>\n</div>"
     },
     "metadata": {},
     "execution_count": 43
    }
   ],
   "source": [
    "# to remember\n",
    "reviews.head(2)"
   ]
  },
  {
   "cell_type": "code",
   "execution_count": 19,
   "metadata": {},
   "outputs": [
    {
     "output_type": "execute_result",
     "data": {
      "text/plain": "count    129971.000000\nmean         88.447138\nstd           3.039730\nmin          80.000000\n25%          86.000000\n50%          88.000000\n75%          91.000000\nmax         100.000000\nName: points, dtype: float64"
     },
     "metadata": {},
     "execution_count": 19
    }
   ],
   "source": [
    "# description (of a column)\n",
    "reviews.taster_name.describe()\n",
    "reviews.points.describe()"
   ]
  },
  {
   "cell_type": "code",
   "execution_count": 44,
   "metadata": {},
   "outputs": [
    {
     "output_type": "execute_result",
     "data": {
      "text/plain": "88.0"
     },
     "metadata": {},
     "execution_count": 44
    }
   ],
   "source": [
    "# mean & median (of a column)\n",
    "reviews.points.mean()\n",
    "reviews.points.median()"
   ]
  },
  {
   "cell_type": "code",
   "execution_count": 18,
   "metadata": {},
   "outputs": [
    {
     "output_type": "execute_result",
     "data": {
      "text/plain": "array(['Kerin O’Keefe', 'Roger Voss', 'Paul Gregutt',\n       'Alexander Peartree', 'Michael Schachner', 'Anna Lee C. Iijima',\n       'Virginie Boone', 'Matt Kettmann', nan, 'Sean P. Sullivan',\n       'Jim Gordon', 'Joe Czerwinski', 'Anne Krebiehl\\xa0MW',\n       'Lauren Buzzeo', 'Mike DeSimone', 'Jeff Jenssen',\n       'Susan Kostrzewa', 'Carrie Dykes', 'Fiona Adams',\n       'Christina Pickard'], dtype=object)"
     },
     "metadata": {},
     "execution_count": 18
    }
   ],
   "source": [
    "# list unique values (of a column)\n",
    "reviews.taster_name.unique()"
   ]
  },
  {
   "cell_type": "code",
   "execution_count": 21,
   "metadata": {},
   "outputs": [
    {
     "output_type": "execute_result",
     "data": {
      "text/plain": "Roger Voss            25514\nMichael Schachner     15134\nKerin O’Keefe         10776\nVirginie Boone         9537\nPaul Gregutt           9532\nMatt Kettmann          6332\nJoe Czerwinski         5147\nSean P. Sullivan       4966\nAnna Lee C. Iijima     4415\nJim Gordon             4177\nAnne Krebiehl MW       3685\nLauren Buzzeo          1835\nSusan Kostrzewa        1085\nMike DeSimone           514\nJeff Jenssen            491\nAlexander Peartree      415\nCarrie Dykes            139\nFiona Adams              27\nChristina Pickard         6\nName: taster_name, dtype: int64"
     },
     "metadata": {},
     "execution_count": 21
    }
   ],
   "source": [
    "#  list of unique values and how often they occur (for a column)\n",
    "reviews.taster_name.value_counts()"
   ]
  },
  {
   "cell_type": "markdown",
   "metadata": {},
   "source": [
    "### Maps\n",
    "All of the standard Python operators (>, <, ==, and so on) are faster than map() or apply() because they uses speed ups built into pandas. However, they are not as flexible as map() or apply(), which can do more advanced things, like applying conditional logic.\n",
    "\n",
    "\n",
    "In the examples below map() and apply() method are doing the same thing"
   ]
  },
  {
   "cell_type": "code",
   "execution_count": 25,
   "metadata": {},
   "outputs": [
    {
     "output_type": "execute_result",
     "data": {
      "text/plain": "    country                                        description   designation  \\\n0     Italy  Aromas include tropical fruit, broom, brimston...  Vulkà Bianco   \n1  Portugal  This is ripe and fruity, a wine that is smooth...      Avidagos   \n\n   points  price           province region_1 region_2    taster_name  \\\n0      87    NaN  Sicily & Sardinia     Etna      NaN  Kerin O’Keefe   \n1      87   15.0              Douro      NaN      NaN     Roger Voss   \n\n  taster_twitter_handle                                          title  \\\n0          @kerinokeefe              Nicosia 2013 Vulkà Bianco  (Etna)   \n1            @vossroger  Quinta dos Avidagos 2011 Avidagos Red (Douro)   \n\n          variety               winery    critic  index_backwards  \n0     White Blend              Nicosia  everyone           129971  \n1  Portuguese Red  Quinta dos Avidagos  everyone           129970  ",
      "text/html": "<div>\n<style scoped>\n    .dataframe tbody tr th:only-of-type {\n        vertical-align: middle;\n    }\n\n    .dataframe tbody tr th {\n        vertical-align: top;\n    }\n\n    .dataframe thead th {\n        text-align: right;\n    }\n</style>\n<table border=\"1\" class=\"dataframe\">\n  <thead>\n    <tr style=\"text-align: right;\">\n      <th></th>\n      <th>country</th>\n      <th>description</th>\n      <th>designation</th>\n      <th>points</th>\n      <th>price</th>\n      <th>province</th>\n      <th>region_1</th>\n      <th>region_2</th>\n      <th>taster_name</th>\n      <th>taster_twitter_handle</th>\n      <th>title</th>\n      <th>variety</th>\n      <th>winery</th>\n      <th>critic</th>\n      <th>index_backwards</th>\n    </tr>\n  </thead>\n  <tbody>\n    <tr>\n      <th>0</th>\n      <td>Italy</td>\n      <td>Aromas include tropical fruit, broom, brimston...</td>\n      <td>Vulkà Bianco</td>\n      <td>87</td>\n      <td>NaN</td>\n      <td>Sicily &amp; Sardinia</td>\n      <td>Etna</td>\n      <td>NaN</td>\n      <td>Kerin O’Keefe</td>\n      <td>@kerinokeefe</td>\n      <td>Nicosia 2013 Vulkà Bianco  (Etna)</td>\n      <td>White Blend</td>\n      <td>Nicosia</td>\n      <td>everyone</td>\n      <td>129971</td>\n    </tr>\n    <tr>\n      <th>1</th>\n      <td>Portugal</td>\n      <td>This is ripe and fruity, a wine that is smooth...</td>\n      <td>Avidagos</td>\n      <td>87</td>\n      <td>15.0</td>\n      <td>Douro</td>\n      <td>NaN</td>\n      <td>NaN</td>\n      <td>Roger Voss</td>\n      <td>@vossroger</td>\n      <td>Quinta dos Avidagos 2011 Avidagos Red (Douro)</td>\n      <td>Portuguese Red</td>\n      <td>Quinta dos Avidagos</td>\n      <td>everyone</td>\n      <td>129970</td>\n    </tr>\n  </tbody>\n</table>\n</div>"
     },
     "metadata": {},
     "execution_count": 25
    }
   ],
   "source": [
    "# to remember\n",
    "reviews.head(2)"
   ]
  },
  {
   "cell_type": "code",
   "execution_count": 26,
   "metadata": {},
   "outputs": [
    {
     "output_type": "execute_result",
     "data": {
      "text/plain": "0        -1.447138\n1        -1.447138\n2        -1.447138\n3        -1.447138\n4        -1.447138\n            ...   \n129966    1.552862\n129967    1.552862\n129968    1.552862\n129969    1.552862\n129970    1.552862\nName: points, Length: 129971, dtype: float64"
     },
     "metadata": {},
     "execution_count": 26
    }
   ],
   "source": [
    "# map (returns a new transformed Series)\n",
    "review_points_mean = reviews.points.mean()\n",
    "reviews.points.map(lambda p: p - review_points_mean) # returns a new transformed Series. Does not modify the original data it is called on"
   ]
  },
  {
   "cell_type": "code",
   "execution_count": 80,
   "metadata": {},
   "outputs": [
    {
     "output_type": "execute_result",
     "data": {
      "text/plain": "    country                                        description   designation  \\\n0     Italy  Aromas include tropical fruit, broom, brimston...  Vulkà Bianco   \n1  Portugal  This is ripe and fruity, a wine that is smooth...      Avidagos   \n\n     points  price           province region_1 region_2    taster_name  \\\n0 -1.447138    NaN  Sicily & Sardinia     Etna      NaN  Kerin O’Keefe   \n1 -1.447138   15.0              Douro      NaN      NaN     Roger Voss   \n\n  taster_twitter_handle                                          title  \\\n0          @kerinokeefe              Nicosia 2013 Vulkà Bianco  (Etna)   \n1            @vossroger  Quinta dos Avidagos 2011 Avidagos Red (Douro)   \n\n          variety               winery    critic  index_backwards  \n0     White Blend              Nicosia  everyone           129971  \n1  Portuguese Red  Quinta dos Avidagos  everyone           129970  ",
      "text/html": "<div>\n<style scoped>\n    .dataframe tbody tr th:only-of-type {\n        vertical-align: middle;\n    }\n\n    .dataframe tbody tr th {\n        vertical-align: top;\n    }\n\n    .dataframe thead th {\n        text-align: right;\n    }\n</style>\n<table border=\"1\" class=\"dataframe\">\n  <thead>\n    <tr style=\"text-align: right;\">\n      <th></th>\n      <th>country</th>\n      <th>description</th>\n      <th>designation</th>\n      <th>points</th>\n      <th>price</th>\n      <th>province</th>\n      <th>region_1</th>\n      <th>region_2</th>\n      <th>taster_name</th>\n      <th>taster_twitter_handle</th>\n      <th>title</th>\n      <th>variety</th>\n      <th>winery</th>\n      <th>critic</th>\n      <th>index_backwards</th>\n    </tr>\n  </thead>\n  <tbody>\n    <tr>\n      <th>0</th>\n      <td>Italy</td>\n      <td>Aromas include tropical fruit, broom, brimston...</td>\n      <td>Vulkà Bianco</td>\n      <td>-1.447138</td>\n      <td>NaN</td>\n      <td>Sicily &amp; Sardinia</td>\n      <td>Etna</td>\n      <td>NaN</td>\n      <td>Kerin O’Keefe</td>\n      <td>@kerinokeefe</td>\n      <td>Nicosia 2013 Vulkà Bianco  (Etna)</td>\n      <td>White Blend</td>\n      <td>Nicosia</td>\n      <td>everyone</td>\n      <td>129971</td>\n    </tr>\n    <tr>\n      <th>1</th>\n      <td>Portugal</td>\n      <td>This is ripe and fruity, a wine that is smooth...</td>\n      <td>Avidagos</td>\n      <td>-1.447138</td>\n      <td>15.0</td>\n      <td>Douro</td>\n      <td>NaN</td>\n      <td>NaN</td>\n      <td>Roger Voss</td>\n      <td>@vossroger</td>\n      <td>Quinta dos Avidagos 2011 Avidagos Red (Douro)</td>\n      <td>Portuguese Red</td>\n      <td>Quinta dos Avidagos</td>\n      <td>everyone</td>\n      <td>129970</td>\n    </tr>\n  </tbody>\n</table>\n</div>"
     },
     "metadata": {},
     "execution_count": 80
    }
   ],
   "source": [
    "# apply (returns a new transformed Dataframe)\n",
    "# (if big dataframe, takes time)\n",
    "def remean_points(row):\n",
    "    row.points = row.points - review_points_mean\n",
    "    return row\n",
    "\n",
    "reviews.apply(remean_points, axis='columns') # returns a new transformed Dataframe. Does not modify the original data it is called on\n",
    "\n",
    "# but here for the print only:\n",
    "remean_points_df = reviews.apply(remean_points, axis='columns')\n",
    "remean_points_df.head(2) # test"
   ]
  },
  {
   "cell_type": "code",
   "execution_count": 31,
   "metadata": {},
   "outputs": [
    {
     "output_type": "execute_result",
     "data": {
      "text/plain": "    country                                        description   designation  \\\n0     Italy  Aromas include tropical fruit, broom, brimston...  Vulkà Bianco   \n1  Portugal  This is ripe and fruity, a wine that is smooth...      Avidagos   \n\n   points  price           province region_1 region_2    taster_name  \\\n0      87    NaN  Sicily & Sardinia     Etna      NaN  Kerin O’Keefe   \n1      87   15.0              Douro      NaN      NaN     Roger Voss   \n\n  taster_twitter_handle                                          title  \\\n0          @kerinokeefe              Nicosia 2013 Vulkà Bianco  (Etna)   \n1            @vossroger  Quinta dos Avidagos 2011 Avidagos Red (Douro)   \n\n          variety               winery    critic  index_backwards  \n0     White Blend              Nicosia  everyone           129971  \n1  Portuguese Red  Quinta dos Avidagos  everyone           129970  ",
      "text/html": "<div>\n<style scoped>\n    .dataframe tbody tr th:only-of-type {\n        vertical-align: middle;\n    }\n\n    .dataframe tbody tr th {\n        vertical-align: top;\n    }\n\n    .dataframe thead th {\n        text-align: right;\n    }\n</style>\n<table border=\"1\" class=\"dataframe\">\n  <thead>\n    <tr style=\"text-align: right;\">\n      <th></th>\n      <th>country</th>\n      <th>description</th>\n      <th>designation</th>\n      <th>points</th>\n      <th>price</th>\n      <th>province</th>\n      <th>region_1</th>\n      <th>region_2</th>\n      <th>taster_name</th>\n      <th>taster_twitter_handle</th>\n      <th>title</th>\n      <th>variety</th>\n      <th>winery</th>\n      <th>critic</th>\n      <th>index_backwards</th>\n    </tr>\n  </thead>\n  <tbody>\n    <tr>\n      <th>0</th>\n      <td>Italy</td>\n      <td>Aromas include tropical fruit, broom, brimston...</td>\n      <td>Vulkà Bianco</td>\n      <td>87</td>\n      <td>NaN</td>\n      <td>Sicily &amp; Sardinia</td>\n      <td>Etna</td>\n      <td>NaN</td>\n      <td>Kerin O’Keefe</td>\n      <td>@kerinokeefe</td>\n      <td>Nicosia 2013 Vulkà Bianco  (Etna)</td>\n      <td>White Blend</td>\n      <td>Nicosia</td>\n      <td>everyone</td>\n      <td>129971</td>\n    </tr>\n    <tr>\n      <th>1</th>\n      <td>Portugal</td>\n      <td>This is ripe and fruity, a wine that is smooth...</td>\n      <td>Avidagos</td>\n      <td>87</td>\n      <td>15.0</td>\n      <td>Douro</td>\n      <td>NaN</td>\n      <td>NaN</td>\n      <td>Roger Voss</td>\n      <td>@vossroger</td>\n      <td>Quinta dos Avidagos 2011 Avidagos Red (Douro)</td>\n      <td>Portuguese Red</td>\n      <td>Quinta dos Avidagos</td>\n      <td>everyone</td>\n      <td>129970</td>\n    </tr>\n  </tbody>\n</table>\n</div>"
     },
     "metadata": {},
     "execution_count": 31
    }
   ],
   "source": [
    "# check that the orginal dataframe was not modified by either map or apply method:\n",
    "reviews.head(2)"
   ]
  },
  {
   "cell_type": "code",
   "execution_count": 36,
   "metadata": {},
   "outputs": [
    {
     "output_type": "execute_result",
     "data": {
      "text/plain": "0        -1.447138\n1        -1.447138\n2        -1.447138\n3        -1.447138\n4        -1.447138\n            ...   \n129966    1.552862\n129967    1.552862\n129968    1.552862\n129969    1.552862\n129970    1.552862\nName: points, Length: 129971, dtype: float64"
     },
     "metadata": {},
     "execution_count": 36
    }
   ],
   "source": [
    "# an easier way to do the above code\n",
    "review_points_mean = reviews.points.mean()\n",
    "reviews.points - review_points_mean"
   ]
  },
  {
   "cell_type": "code",
   "execution_count": 41,
   "metadata": {},
   "outputs": [
    {
     "output_type": "execute_result",
     "data": {
      "text/plain": "0                     Italy - Etna\n1                              NaN\n2           US - Willamette Valley\n3         US - Lake Michigan Shore\n4           US - Willamette Valley\n                    ...           \n129966                         NaN\n129967                 US - Oregon\n129968             France - Alsace\n129969             France - Alsace\n129970             France - Alsace\nLength: 129971, dtype: object"
     },
     "metadata": {},
     "execution_count": 41
    }
   ],
   "source": [
    "# operators (do not modified original dataframe if just used by themselves)\n",
    "reviews.country + \" - \" + reviews.region_1"
   ]
  },
  {
   "cell_type": "code",
   "execution_count": 42,
   "metadata": {},
   "outputs": [
    {
     "output_type": "execute_result",
     "data": {
      "text/plain": "    country                                        description   designation  \\\n0     Italy  Aromas include tropical fruit, broom, brimston...  Vulkà Bianco   \n1  Portugal  This is ripe and fruity, a wine that is smooth...      Avidagos   \n\n   points  price           province region_1 region_2    taster_name  \\\n0      87    NaN  Sicily & Sardinia     Etna      NaN  Kerin O’Keefe   \n1      87   15.0              Douro      NaN      NaN     Roger Voss   \n\n  taster_twitter_handle                                          title  \\\n0          @kerinokeefe              Nicosia 2013 Vulkà Bianco  (Etna)   \n1            @vossroger  Quinta dos Avidagos 2011 Avidagos Red (Douro)   \n\n          variety               winery    critic  index_backwards  \n0     White Blend              Nicosia  everyone           129971  \n1  Portuguese Red  Quinta dos Avidagos  everyone           129970  ",
      "text/html": "<div>\n<style scoped>\n    .dataframe tbody tr th:only-of-type {\n        vertical-align: middle;\n    }\n\n    .dataframe tbody tr th {\n        vertical-align: top;\n    }\n\n    .dataframe thead th {\n        text-align: right;\n    }\n</style>\n<table border=\"1\" class=\"dataframe\">\n  <thead>\n    <tr style=\"text-align: right;\">\n      <th></th>\n      <th>country</th>\n      <th>description</th>\n      <th>designation</th>\n      <th>points</th>\n      <th>price</th>\n      <th>province</th>\n      <th>region_1</th>\n      <th>region_2</th>\n      <th>taster_name</th>\n      <th>taster_twitter_handle</th>\n      <th>title</th>\n      <th>variety</th>\n      <th>winery</th>\n      <th>critic</th>\n      <th>index_backwards</th>\n    </tr>\n  </thead>\n  <tbody>\n    <tr>\n      <th>0</th>\n      <td>Italy</td>\n      <td>Aromas include tropical fruit, broom, brimston...</td>\n      <td>Vulkà Bianco</td>\n      <td>87</td>\n      <td>NaN</td>\n      <td>Sicily &amp; Sardinia</td>\n      <td>Etna</td>\n      <td>NaN</td>\n      <td>Kerin O’Keefe</td>\n      <td>@kerinokeefe</td>\n      <td>Nicosia 2013 Vulkà Bianco  (Etna)</td>\n      <td>White Blend</td>\n      <td>Nicosia</td>\n      <td>everyone</td>\n      <td>129971</td>\n    </tr>\n    <tr>\n      <th>1</th>\n      <td>Portugal</td>\n      <td>This is ripe and fruity, a wine that is smooth...</td>\n      <td>Avidagos</td>\n      <td>87</td>\n      <td>15.0</td>\n      <td>Douro</td>\n      <td>NaN</td>\n      <td>NaN</td>\n      <td>Roger Voss</td>\n      <td>@vossroger</td>\n      <td>Quinta dos Avidagos 2011 Avidagos Red (Douro)</td>\n      <td>Portuguese Red</td>\n      <td>Quinta dos Avidagos</td>\n      <td>everyone</td>\n      <td>129970</td>\n    </tr>\n  </tbody>\n</table>\n</div>"
     },
     "metadata": {},
     "execution_count": 42
    }
   ],
   "source": [
    "# check that the orginal dataframe was not modified by the operators:\n",
    "reviews.head(2)"
   ]
  },
  {
   "cell_type": "markdown",
   "metadata": {},
   "source": [
    "##### Exercices from Kaggle"
   ]
  },
  {
   "cell_type": "code",
   "execution_count": 79,
   "metadata": {},
   "outputs": [
    {
     "output_type": "execute_result",
     "data": {
      "text/plain": "'Bandit NV Merlot (California)'"
     },
     "metadata": {},
     "execution_count": 79
    }
   ],
   "source": [
    "# 1/ Which wine is the \"best bargain\"? Create a variable bargain_wine with the title of the wine with the highest points-to-price ratio in the dataset\n",
    "bargain_idx = (reviews.points / reviews.price).idxmax() # idxmax = index of max value\n",
    "bargain_wine = reviews.loc[bargain_idx, 'title']\n",
    "bargain_wine # test"
   ]
  },
  {
   "cell_type": "code",
   "execution_count": 82,
   "metadata": {},
   "outputs": [
    {
     "output_type": "execute_result",
     "data": {
      "text/plain": "tropical    3607\nfruity      9090\ndtype: int64"
     },
     "metadata": {},
     "execution_count": 82
    }
   ],
   "source": [
    "# 2/ \"tropical\" or \"fruity\"? Create a Series `descriptor_counts` counting how many times each of these two words appears in the `description` column in the dataset\n",
    "nb_trop = reviews.description.map(lambda description: \"tropical\" in                                             description).sum()\n",
    "nb_fruit = reviews.description.map(lambda description: \"fruity\" in                                              description).sum()\n",
    "\n",
    "descriptor_counts = pd.Series([nb_trop,nb_fruit]\n",
    "                             , index=['tropical', 'fruity'])\n",
    "descriptor_counts # test"
   ]
  },
  {
   "cell_type": "code",
   "execution_count": 92,
   "metadata": {},
   "outputs": [
    {
     "output_type": "execute_result",
     "data": {
      "text/plain": "0         2\n1         2\n2         2\n3         2\n4         2\n         ..\n129966    2\n129967    2\n129968    2\n129969    2\n129970    2\nLength: 129971, dtype: int64"
     },
     "metadata": {},
     "execution_count": 92
    }
   ],
   "source": [
    "# 3/ A score of 95 or higher counts as 3 stars, a score of at least 85 but less than 95 is 2 stars. Any other score is 1 star. But any wines from Canada should automatically get 3 stars, regardless of points (mafia).\n",
    "\n",
    "def star_attibuter(row):\n",
    "    if row['country'] == \"Canada\":\n",
    "        return 3\n",
    "    elif row.points >= 95:\n",
    "        return 3\n",
    "    elif row.points >= 85 & row.points < 95:\n",
    "        return 2\n",
    "    else:\n",
    "        return 1\n",
    "\n",
    "star_ratings = reviews.apply(star_attibuter, axis='columns') # type = Series\n",
    "star_ratings # test"
   ]
  },
  {
   "cell_type": "markdown",
   "metadata": {},
   "source": [
    "# 4 Grouping and Sorting"
   ]
  },
  {
   "cell_type": "code",
   "execution_count": 86,
   "metadata": {},
   "outputs": [
    {
     "output_type": "execute_result",
     "data": {
      "text/plain": "0         2\n1         2\n2         2\n3         2\n4         2\n         ..\n129966    2\n129967    2\n129968    2\n129969    2\n129970    2\nLength: 129971, dtype: int64"
     },
     "metadata": {},
     "execution_count": 86
    }
   ],
   "source": []
  },
  {
   "cell_type": "code",
   "execution_count": null,
   "metadata": {},
   "outputs": [],
   "source": []
  },
  {
   "cell_type": "code",
   "execution_count": null,
   "metadata": {},
   "outputs": [],
   "source": []
  },
  {
   "cell_type": "code",
   "execution_count": null,
   "metadata": {},
   "outputs": [],
   "source": []
  },
  {
   "cell_type": "code",
   "execution_count": null,
   "metadata": {},
   "outputs": [],
   "source": []
  }
 ],
 "metadata": {
  "language_info": {
   "codemirror_mode": {
    "name": "ipython",
    "version": 3
   },
   "file_extension": ".py",
   "mimetype": "text/x-python",
   "name": "python",
   "nbconvert_exporter": "python",
   "pygments_lexer": "ipython3",
   "version": "3.7.6-final"
  },
  "orig_nbformat": 2,
  "kernelspec": {
   "name": "python37664bitcondaf50e52564a3e43b287a10ea35f8402b9",
   "display_name": "Python 3.7.6 64-bit (conda)"
  }
 },
 "nbformat": 4,
 "nbformat_minor": 2
}