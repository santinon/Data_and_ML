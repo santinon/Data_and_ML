{
 "cells": [
  {
   "cell_type": "markdown",
   "metadata": {},
   "source": [
    "# 1 Creating, reading & writing"
   ]
  },
  {
   "cell_type": "code",
   "execution_count": 1,
   "metadata": {},
   "outputs": [],
   "source": [
    "import pandas as pd"
   ]
  },
  {
   "cell_type": "markdown",
   "metadata": {},
   "source": [
    "## DataFrame"
   ]
  },
  {
   "cell_type": "code",
   "execution_count": 2,
   "metadata": {},
   "outputs": [
    {
     "output_type": "execute_result",
     "data": {
      "text/plain": "   Yes   No\n0   50  131\n1   21    2",
      "text/html": "<div>\n<style scoped>\n    .dataframe tbody tr th:only-of-type {\n        vertical-align: middle;\n    }\n\n    .dataframe tbody tr th {\n        vertical-align: top;\n    }\n\n    .dataframe thead th {\n        text-align: right;\n    }\n</style>\n<table border=\"1\" class=\"dataframe\">\n  <thead>\n    <tr style=\"text-align: right;\">\n      <th></th>\n      <th>Yes</th>\n      <th>No</th>\n    </tr>\n  </thead>\n  <tbody>\n    <tr>\n      <th>0</th>\n      <td>50</td>\n      <td>131</td>\n    </tr>\n    <tr>\n      <th>1</th>\n      <td>21</td>\n      <td>2</td>\n    </tr>\n  </tbody>\n</table>\n</div>"
     },
     "metadata": {},
     "execution_count": 2
    }
   ],
   "source": [
    "pd.DataFrame({'Yes': [50, 21], 'No': [131, 2]})"
   ]
  },
  {
   "cell_type": "code",
   "execution_count": 3,
   "metadata": {},
   "outputs": [
    {
     "output_type": "execute_result",
     "data": {
      "text/plain": "             Bob           Sue\n0    I liked it.  Pretty good.\n1  It was awful.        Bland.",
      "text/html": "<div>\n<style scoped>\n    .dataframe tbody tr th:only-of-type {\n        vertical-align: middle;\n    }\n\n    .dataframe tbody tr th {\n        vertical-align: top;\n    }\n\n    .dataframe thead th {\n        text-align: right;\n    }\n</style>\n<table border=\"1\" class=\"dataframe\">\n  <thead>\n    <tr style=\"text-align: right;\">\n      <th></th>\n      <th>Bob</th>\n      <th>Sue</th>\n    </tr>\n  </thead>\n  <tbody>\n    <tr>\n      <th>0</th>\n      <td>I liked it.</td>\n      <td>Pretty good.</td>\n    </tr>\n    <tr>\n      <th>1</th>\n      <td>It was awful.</td>\n      <td>Bland.</td>\n    </tr>\n  </tbody>\n</table>\n</div>"
     },
     "metadata": {},
     "execution_count": 3
    }
   ],
   "source": [
    "pd.DataFrame({'Bob': ['I liked it.', 'It was awful.'], \n",
    "              'Sue': ['Pretty good.', 'Bland.']})"
   ]
  },
  {
   "cell_type": "code",
   "execution_count": 4,
   "metadata": {},
   "outputs": [
    {
     "output_type": "execute_result",
     "data": {
      "text/plain": "                     Bob           Sue\nProduct A    I liked it.  Pretty good.\nProduct B  It was awful.        Bland.",
      "text/html": "<div>\n<style scoped>\n    .dataframe tbody tr th:only-of-type {\n        vertical-align: middle;\n    }\n\n    .dataframe tbody tr th {\n        vertical-align: top;\n    }\n\n    .dataframe thead th {\n        text-align: right;\n    }\n</style>\n<table border=\"1\" class=\"dataframe\">\n  <thead>\n    <tr style=\"text-align: right;\">\n      <th></th>\n      <th>Bob</th>\n      <th>Sue</th>\n    </tr>\n  </thead>\n  <tbody>\n    <tr>\n      <th>Product A</th>\n      <td>I liked it.</td>\n      <td>Pretty good.</td>\n    </tr>\n    <tr>\n      <th>Product B</th>\n      <td>It was awful.</td>\n      <td>Bland.</td>\n    </tr>\n  </tbody>\n</table>\n</div>"
     },
     "metadata": {},
     "execution_count": 4
    }
   ],
   "source": [
    "pd.DataFrame({'Bob': ['I liked it.', 'It was awful.'], \n",
    "              'Sue': ['Pretty good.', 'Bland.']},\n",
    "             index=['Product A', 'Product B'])"
   ]
  },
  {
   "cell_type": "markdown",
   "metadata": {},
   "source": [
    "## Series"
   ]
  },
  {
   "cell_type": "code",
   "execution_count": 5,
   "metadata": {},
   "outputs": [
    {
     "output_type": "execute_result",
     "data": {
      "text/plain": "0    1\n1    2\n2    3\n3    4\n4    5\ndtype: int64"
     },
     "metadata": {},
     "execution_count": 5
    }
   ],
   "source": [
    "pd.Series([1, 2, 3, 4, 5])"
   ]
  },
  {
   "cell_type": "code",
   "execution_count": 6,
   "metadata": {},
   "outputs": [
    {
     "output_type": "execute_result",
     "data": {
      "text/plain": "2015 Sales    30\n2016 Sales    35\n2017 Sales    40\nName: Product A, dtype: int64"
     },
     "metadata": {},
     "execution_count": 6
    }
   ],
   "source": [
    "pd.Series([30, 35, 40], \n",
    "           index=['2015 Sales', '2016 Sales', '2017 Sales'],\n",
    "           name='Product A')"
   ]
  },
  {
   "cell_type": "code",
   "execution_count": 7,
   "metadata": {},
   "outputs": [],
   "source": [
    "# open and indexing df\n",
    "reviews = pd.read_csv(\"/home/gluecksman/src/Data_and_ML/pandas/winemag-data-130k-v2.csv\", index_col=0)\n",
    "\n",
    "# saving df to something\n",
    "reviews.to_csv(\"just_a_fancy_test_name.csv\")"
   ]
  },
  {
   "cell_type": "markdown",
   "metadata": {},
   "source": [
    "# 2 Indexing, selecting & assigning"
   ]
  },
  {
   "cell_type": "code",
   "execution_count": 8,
   "metadata": {},
   "outputs": [
    {
     "output_type": "execute_result",
     "data": {
      "text/plain": "0       Italy\n1    Portugal\n2          US\n3          US\n4          US\n5       Spain\n6       Italy\n7      France\n8     Germany\n9      France\nName: country, dtype: object"
     },
     "metadata": {},
     "execution_count": 8
    }
   ],
   "source": [
    "reviews.country\n",
    "# same as \n",
    "reviews['country']\n",
    "\n",
    "\n",
    "# further, we can do this:\n",
    "reviews['country'][0] # selects 1st\n",
    "reviews['country'][0:10] # selects from 1st - 10th"
   ]
  },
  {
   "cell_type": "markdown",
   "metadata": {},
   "source": [
    "### index-based selection\n",
    "first element of the range is included and the last one excluded"
   ]
  },
  {
   "cell_type": "code",
   "execution_count": 9,
   "metadata": {},
   "outputs": [],
   "source": [
    "# index-based selection\n",
    "reviews.iloc[0] # selects all row (and thus, the different columns' values)\n",
    "\n",
    "# to get a column with iloc\n",
    "reviews.iloc[:, 0] # selects all the column i= 0\n",
    "\n",
    "# both below are =\n",
    "reviews.iloc[:3, 0] # selects from the column i= 0, the 1st, 2nd and 3rd row\n",
    "reviews.iloc[[0, 1, 2], 0] # the same\n",
    "\n",
    "reviews.iloc[1:3, 0] # selects, from the column i= 0, JUST 2nd & 3rd entries\n",
    "\n",
    "reviews.iloc[-5:] # selects last five rows (with all the column's content)\n",
    "\n",
    "sample_reviews = reviews.iloc[[1, 2, 3, 5, 8], :] # selects the rows 1, 2, 3, 5, 8 entirely (with all the columns)"
   ]
  },
  {
   "cell_type": "markdown",
   "metadata": {},
   "source": [
    "### Label-based selection\n",
    "indexes inclusively"
   ]
  },
  {
   "cell_type": "code",
   "execution_count": 10,
   "metadata": {},
   "outputs": [
    {
     "output_type": "execute_result",
     "data": {
      "text/plain": "               taster_name taster_twitter_handle  points\n0            Kerin O’Keefe          @kerinokeefe      87\n1               Roger Voss            @vossroger      87\n2             Paul Gregutt           @paulgwine       87\n3       Alexander Peartree                   NaN      87\n4             Paul Gregutt           @paulgwine       87\n...                    ...                   ...     ...\n129966  Anna Lee C. Iijima                   NaN      90\n129967        Paul Gregutt           @paulgwine       90\n129968          Roger Voss            @vossroger      90\n129969          Roger Voss            @vossroger      90\n129970          Roger Voss            @vossroger      90\n\n[129971 rows x 3 columns]",
      "text/html": "<div>\n<style scoped>\n    .dataframe tbody tr th:only-of-type {\n        vertical-align: middle;\n    }\n\n    .dataframe tbody tr th {\n        vertical-align: top;\n    }\n\n    .dataframe thead th {\n        text-align: right;\n    }\n</style>\n<table border=\"1\" class=\"dataframe\">\n  <thead>\n    <tr style=\"text-align: right;\">\n      <th></th>\n      <th>taster_name</th>\n      <th>taster_twitter_handle</th>\n      <th>points</th>\n    </tr>\n  </thead>\n  <tbody>\n    <tr>\n      <th>0</th>\n      <td>Kerin O’Keefe</td>\n      <td>@kerinokeefe</td>\n      <td>87</td>\n    </tr>\n    <tr>\n      <th>1</th>\n      <td>Roger Voss</td>\n      <td>@vossroger</td>\n      <td>87</td>\n    </tr>\n    <tr>\n      <th>2</th>\n      <td>Paul Gregutt</td>\n      <td>@paulgwine</td>\n      <td>87</td>\n    </tr>\n    <tr>\n      <th>3</th>\n      <td>Alexander Peartree</td>\n      <td>NaN</td>\n      <td>87</td>\n    </tr>\n    <tr>\n      <th>4</th>\n      <td>Paul Gregutt</td>\n      <td>@paulgwine</td>\n      <td>87</td>\n    </tr>\n    <tr>\n      <th>...</th>\n      <td>...</td>\n      <td>...</td>\n      <td>...</td>\n    </tr>\n    <tr>\n      <th>129966</th>\n      <td>Anna Lee C. Iijima</td>\n      <td>NaN</td>\n      <td>90</td>\n    </tr>\n    <tr>\n      <th>129967</th>\n      <td>Paul Gregutt</td>\n      <td>@paulgwine</td>\n      <td>90</td>\n    </tr>\n    <tr>\n      <th>129968</th>\n      <td>Roger Voss</td>\n      <td>@vossroger</td>\n      <td>90</td>\n    </tr>\n    <tr>\n      <th>129969</th>\n      <td>Roger Voss</td>\n      <td>@vossroger</td>\n      <td>90</td>\n    </tr>\n    <tr>\n      <th>129970</th>\n      <td>Roger Voss</td>\n      <td>@vossroger</td>\n      <td>90</td>\n    </tr>\n  </tbody>\n</table>\n<p>129971 rows × 3 columns</p>\n</div>"
     },
     "metadata": {},
     "execution_count": 10
    }
   ],
   "source": [
    "# label-based selection\n",
    "reviews.loc[:, ['taster_name', 'taster_twitter_handle', 'points']] # selects rows from the desired columns "
   ]
  },
  {
   "cell_type": "markdown",
   "metadata": {},
   "source": [
    "### More things below"
   ]
  },
  {
   "cell_type": "code",
   "execution_count": 11,
   "metadata": {},
   "outputs": [],
   "source": [
    "# Manipulating the index\n",
    "reviews.set_index(\"title\")\n",
    "\n",
    "# Conditional selection\n",
    "reviews.country == 'Italy' #  produced a Series of True/False booleans based on the country of each record\n",
    "\n",
    "reviews.loc[reviews.country == 'Italy'] # selects rows where column 'country' == 'italy'\n",
    "reviews.loc[(reviews.country == 'Italy') & (reviews.points >= 90)] # and where the column 'points' ==result > 90\n",
    "reviews.loc[(reviews.country == 'Italy') | (reviews.points >= 90)] # or (same thing otherwise)\n",
    "\n",
    "# isin lets you select the data whose value \"is in\" a list of values\n",
    "reviews.loc[reviews.country.isin(['Italy', 'France'])]\n",
    "\n",
    "# isnull/notnull\n",
    "reviews.loc[reviews.price.notnull()] # selects rows that are non-null/non-NaN in the 'price' column\n",
    "reviews.loc[reviews.price.isnull()] # selects rows that are null/NaN in the 'price' column\n",
    "\n",
    "# assigning data to a df\n",
    "reviews['critic'] = 'everyone'\n",
    "reviews['index_backwards'] = range(len(reviews), 0, -1) # -1 means backwards, otherwise the range is not working \n"
   ]
  },
  {
   "cell_type": "markdown",
   "metadata": {},
   "source": [
    "# 3 Summary functions & Maps"
   ]
  },
  {
   "cell_type": "code",
   "execution_count": null,
   "metadata": {},
   "outputs": [],
   "source": []
  },
  {
   "cell_type": "code",
   "execution_count": null,
   "metadata": {},
   "outputs": [],
   "source": []
  },
  {
   "cell_type": "code",
   "execution_count": null,
   "metadata": {},
   "outputs": [],
   "source": []
  },
  {
   "cell_type": "code",
   "execution_count": null,
   "metadata": {},
   "outputs": [],
   "source": []
  },
  {
   "cell_type": "code",
   "execution_count": null,
   "metadata": {},
   "outputs": [],
   "source": []
  },
  {
   "cell_type": "code",
   "execution_count": null,
   "metadata": {},
   "outputs": [],
   "source": []
  },
  {
   "cell_type": "code",
   "execution_count": null,
   "metadata": {},
   "outputs": [],
   "source": []
  },
  {
   "cell_type": "code",
   "execution_count": null,
   "metadata": {},
   "outputs": [],
   "source": []
  },
  {
   "cell_type": "code",
   "execution_count": null,
   "metadata": {},
   "outputs": [],
   "source": []
  },
  {
   "cell_type": "code",
   "execution_count": null,
   "metadata": {},
   "outputs": [],
   "source": []
  },
  {
   "cell_type": "code",
   "execution_count": null,
   "metadata": {},
   "outputs": [],
   "source": []
  },
  {
   "cell_type": "code",
   "execution_count": null,
   "metadata": {},
   "outputs": [],
   "source": []
  },
  {
   "cell_type": "code",
   "execution_count": null,
   "metadata": {},
   "outputs": [],
   "source": []
  },
  {
   "cell_type": "code",
   "execution_count": null,
   "metadata": {},
   "outputs": [],
   "source": []
  },
  {
   "cell_type": "code",
   "execution_count": null,
   "metadata": {},
   "outputs": [],
   "source": []
  },
  {
   "cell_type": "code",
   "execution_count": null,
   "metadata": {},
   "outputs": [],
   "source": []
  },
  {
   "cell_type": "code",
   "execution_count": null,
   "metadata": {},
   "outputs": [],
   "source": []
  },
  {
   "cell_type": "code",
   "execution_count": null,
   "metadata": {},
   "outputs": [],
   "source": []
  },
  {
   "cell_type": "code",
   "execution_count": null,
   "metadata": {},
   "outputs": [],
   "source": []
  },
  {
   "cell_type": "code",
   "execution_count": null,
   "metadata": {},
   "outputs": [],
   "source": []
  }
 ],
 "metadata": {
  "language_info": {
   "codemirror_mode": {
    "name": "ipython",
    "version": 3
   },
   "file_extension": ".py",
   "mimetype": "text/x-python",
   "name": "python",
   "nbconvert_exporter": "python",
   "pygments_lexer": "ipython3",
   "version": "3.7.6-final"
  },
  "orig_nbformat": 2,
  "kernelspec": {
   "name": "python37664bitcondaf50e52564a3e43b287a10ea35f8402b9",
   "display_name": "Python 3.7.6 64-bit (conda)"
  }
 },
 "nbformat": 4,
 "nbformat_minor": 2
}