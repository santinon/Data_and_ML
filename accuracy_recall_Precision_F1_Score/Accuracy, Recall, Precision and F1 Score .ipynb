{
 "cells": [
  {
   "cell_type": "markdown",
   "metadata": {},
   "source": [
    "# Accuracy, Recall, Precision and F1 Score "
   ]
  },
  {
   "cell_type": "code",
   "execution_count": 1,
   "metadata": {},
   "outputs": [
    {
     "name": "stdout",
     "output_type": "stream",
     "text": [
      "0.3\n",
      "0.42857142857142855\n",
      "0.5\n",
      "0.4615384615384615\n"
     ]
    }
   ],
   "source": [
    "labels = [1, 0, 0, 1, 1, 1, 0, 1, 1, 1]\n",
    "guesses = [0, 1, 1, 1, 1, 0, 1, 0, 1, 0]\n",
    "\n",
    "true_positives = 0\n",
    "true_negatives = 0\n",
    "false_positives = 0\n",
    "false_negatives = 0\n",
    "\n",
    "\n",
    "for i in range(len(guesses)):\n",
    "  #True Positives\n",
    "  if labels[i] == 1 and guesses[i] == 1:\n",
    "    true_positives += 1\n",
    "  #True Negatives\n",
    "  if labels[i] == 0 and guesses[i] == 0:\n",
    "    true_negatives += 1\n",
    "  #False Positives\n",
    "  if labels[i] == 0 and guesses[i] == 1:\n",
    "    false_positives += 1\n",
    "  #False Negatives\n",
    "  if labels[i] == 1 and guesses[i] == 0:\n",
    "    false_negatives += 1\n",
    "    \n",
    "    \n",
    "    \n",
    "accuracy = (true_positives + true_negatives) / len(guesses)\n",
    "print(accuracy)\n",
    "\n",
    "recall = true_positives / (true_positives + false_negatives)\n",
    "print(recall)\n",
    "\n",
    "precision = true_positives / (true_positives + false_positives)\n",
    "print(precision)\n",
    "\n",
    "f_1 = 2 * (precision * recall) / (precision + recall)\n",
    "print(f_1)"
   ]
  },
  {
   "cell_type": "markdown",
   "metadata": {},
   "source": [
    "## By using sklearn"
   ]
  },
  {
   "cell_type": "code",
   "execution_count": 2,
   "metadata": {},
   "outputs": [
    {
     "name": "stdout",
     "output_type": "stream",
     "text": [
      "0.3\n",
      "0.42857142857142855\n",
      "0.5\n",
      "0.4615384615384615\n"
     ]
    }
   ],
   "source": [
    "from sklearn.metrics import accuracy_score, recall_score, precision_score, f1_score\n",
    "\n",
    "labels = [1, 0, 0, 1, 1, 1, 0, 1, 1, 1]\n",
    "guesses = [0, 1, 1, 1, 1, 0, 1, 0, 1, 0]\n",
    "\n",
    "print(accuracy_score(labels, guesses))\n",
    "print(recall_score(labels, guesses))\n",
    "print(precision_score(labels, guesses))\n",
    "print(f1_score(labels, guesses))"
   ]
  },
  {
   "cell_type": "markdown",
   "metadata": {},
   "source": [
    "- Classifying a single point can result in a true positive (truth = 1, guess = 1), a true negative (truth = 0, guess = 0), a false positive (truth = 0, guess = 1), or a false negative (truth = 1, guess = 0).\n",
    "\n",
    "\n",
    "- Accuracy measures how many classifications your algorithm got correct out of every classification it made.\n",
    "\n",
    "\n",
    "- Recall measures the percentage of the relevant items your classifier was able to successfully find.\n",
    "\n",
    "\n",
    "- Precision measures the percentage of items your classifier found that were actually relevant.\n",
    "\n",
    "\n",
    "- Precision and recall are tied to each other. As one goes up, the other will go down.\n",
    "\n",
    "\n",
    "- F1 score is a combination of precision and recall.\n",
    "\n",
    "\n",
    "- F1 score will be low if either precision or recall is low."
   ]
  }
 ],
 "metadata": {
  "kernelspec": {
   "display_name": "Python 3",
   "language": "python",
   "name": "python3"
  },
  "language_info": {
   "codemirror_mode": {
    "name": "ipython",
    "version": 3
   },
   "file_extension": ".py",
   "mimetype": "text/x-python",
   "name": "python",
   "nbconvert_exporter": "python",
   "pygments_lexer": "ipython3",
   "version": "3.6.3"
  }
 },
 "nbformat": 4,
 "nbformat_minor": 2
}
