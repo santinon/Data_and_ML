{
 "cells": [
  {
   "cell_type": "markdown",
   "metadata": {},
   "source": [
    "### What is going on actually?"
   ]
  },
  {
   "cell_type": "code",
   "execution_count": 1,
   "metadata": {},
   "outputs": [
    {
     "ename": "NameError",
     "evalue": "name 'hours_studied' is not defined",
     "output_type": "error",
     "traceback": [
      "\u001b[0;31m---------------------------------------------------------------------------\u001b[0m",
      "\u001b[0;31mNameError\u001b[0m                                 Traceback (most recent call last)",
      "\u001b[0;32m<ipython-input-1-992b2c1dae15>\u001b[0m in \u001b[0;36m<module>\u001b[0;34m()\u001b[0m\n\u001b[1;32m     21\u001b[0m \u001b[0;31m# Make final classifications on Codecademy University data here\u001b[0m\u001b[0;34m\u001b[0m\u001b[0;34m\u001b[0m\u001b[0m\n\u001b[1;32m     22\u001b[0m \u001b[0;34m\u001b[0m\u001b[0m\n\u001b[0;32m---> 23\u001b[0;31m \u001b[0mfinal_results\u001b[0m \u001b[0;34m=\u001b[0m \u001b[0mpredict_class\u001b[0m\u001b[0;34m(\u001b[0m\u001b[0mhours_studied\u001b[0m\u001b[0;34m,\u001b[0m \u001b[0mcalculated_coefficients\u001b[0m\u001b[0;34m,\u001b[0m \u001b[0mintercept\u001b[0m\u001b[0;34m,\u001b[0m \u001b[0;36m0.5\u001b[0m\u001b[0;34m)\u001b[0m\u001b[0;34m\u001b[0m\u001b[0m\n\u001b[0m\u001b[1;32m     24\u001b[0m \u001b[0mprint\u001b[0m\u001b[0;34m(\u001b[0m\u001b[0mfinal_results\u001b[0m\u001b[0;34m)\u001b[0m\u001b[0;34m\u001b[0m\u001b[0m\n",
      "\u001b[0;31mNameError\u001b[0m: name 'hours_studied' is not defined"
     ]
    }
   ],
   "source": [
    "import numpy as np\n",
    "\n",
    "def log_odds(features, coefficients,intercept): # for z calculation\n",
    "  return np.dot(features,coefficients) + intercept\n",
    "\n",
    "def sigmoid(z): # for g(z) calculation\n",
    "    denominator = 1 + np.exp(-z)\n",
    "    return 1/denominator\n",
    "\n",
    "# Create predict_class() function here\n",
    "\n",
    "# we can compare all the values in an array with some threshold using the following syntax:\n",
    "def predict_class(features,coefficients,intercept,threshold):\n",
    "  calculated_log_odds = log_odds(features,coefficients,intercept) # z\n",
    "  probabilities = sigmoid(calculated_log_odds) # g(z)\n",
    "  # compare all values in an array with some threshold using:\n",
    "  return np.where(probabilities >= threshold, 1, 0) # probabilities = array\n",
    "# If a value in probabilities is above threshold, the output is 1.\n",
    "# If a value in probabilities is below threshold, the output is 0.\n",
    "\n",
    "# Make final classifications on Codecademy University data here\n",
    "\n",
    "final_results = predict_class(hours_studied, calculated_coefficients, intercept, 0.5)\n",
    "print(final_results)"
   ]
  },
  {
   "cell_type": "markdown",
   "metadata": {},
   "source": [
    "### Scikit-learn\n",
    "Important Note: Sklearn‘s Logistic Regression implementation requires feature data to be normalized => SCALED ! "
   ]
  },
  {
   "cell_type": "code",
   "execution_count": 2,
   "metadata": {},
   "outputs": [
    {
     "ename": "NameError",
     "evalue": "name 'hours_studied_scaled' is not defined",
     "output_type": "error",
     "traceback": [
      "\u001b[0;31m---------------------------------------------------------------------------\u001b[0m",
      "\u001b[0;31mNameError\u001b[0m                                 Traceback (most recent call last)",
      "\u001b[0;32m<ipython-input-2-ea0ca363cd0b>\u001b[0m in \u001b[0;36m<module>\u001b[0;34m()\u001b[0m\n\u001b[1;32m      6\u001b[0m \u001b[0;31m# Create and fit logistic regression model here\u001b[0m\u001b[0;34m\u001b[0m\u001b[0;34m\u001b[0m\u001b[0m\n\u001b[1;32m      7\u001b[0m \u001b[0mmodel\u001b[0m \u001b[0;34m=\u001b[0m \u001b[0mLogisticRegression\u001b[0m\u001b[0;34m(\u001b[0m\u001b[0;34m)\u001b[0m\u001b[0;34m\u001b[0m\u001b[0m\n\u001b[0;32m----> 8\u001b[0;31m \u001b[0mmodel\u001b[0m\u001b[0;34m.\u001b[0m\u001b[0mfit\u001b[0m\u001b[0;34m(\u001b[0m\u001b[0mhours_studied_scaled\u001b[0m\u001b[0;34m,\u001b[0m\u001b[0mpassed_exam\u001b[0m\u001b[0;34m)\u001b[0m\u001b[0;34m\u001b[0m\u001b[0m\n\u001b[0m\u001b[1;32m      9\u001b[0m \u001b[0;34m\u001b[0m\u001b[0m\n\u001b[1;32m     10\u001b[0m \u001b[0;31m# Save the model coefficients and intercept here  ( = z)\u001b[0m\u001b[0;34m\u001b[0m\u001b[0;34m\u001b[0m\u001b[0m\n",
      "\u001b[0;31mNameError\u001b[0m: name 'hours_studied_scaled' is not defined"
     ]
    }
   ],
   "source": [
    "import numpy as np\n",
    "from sklearn.linear_model import LogisticRegression\n",
    "#  important note: sklearn‘s Logistic Regression implementation \n",
    "#  requires feature data to be normalized => SCALED ! \n",
    "\n",
    "# Create and fit logistic regression model here\n",
    "model = LogisticRegression()\n",
    "model.fit(hours_studied_scaled,passed_exam)\n",
    "\n",
    "# Save the model coefficients and intercept here  ( = z)\n",
    "calculated_coefficients = model.coef_           # x1.b1 + ... + xn.bn\n",
    "intercept = model.intercept_                    # x0\n",
    "\n",
    "print(calculated_coefficients)\n",
    "print(intercept)\n",
    "\n",
    "# Predict the probabilities of passing for next semester's students here \n",
    "#(predicted probability of the data samples belonging to the positive class than the actual class)\n",
    "passed_predictions = model.predict_proba(guessed_hours_scaled)\n",
    "\n",
    "\n",
    "# Create a new model on the training data with two features here\n",
    "model_2 = LogisticRegression()\n",
    "model_2.fit(exam_features_scaled_train,passed_exam_2_train)\n",
    "\n",
    "# Predict whether the students will pass here \n",
    "# (predict whether new data points belong to the positive class)\n",
    "passed_predictions_2 = model_2.predict(exam_features_scaled_test)\n",
    "print(passed_predictions_2)\n",
    "print(passed_exam_2_test)"
   ]
  },
  {
   "cell_type": "markdown",
   "metadata": {},
   "source": [
    "#### Feature Importance"
   ]
  },
  {
   "cell_type": "code",
   "execution_count": null,
   "metadata": {},
   "outputs": [],
   "source": [
    "import codecademylib3_seaborn\n",
    "import numpy as np\n",
    "import matplotlib.pyplot as plt\n",
    "from sklearn.linear_model import LogisticRegression\n",
    "\n",
    "# Train a sklearn logistic regression model on the normalized exam data\n",
    "model_2 = LogisticRegression()\n",
    "model_2.fit(exam_features_scaled,passed_exam_2)\n",
    "\n",
    "# Assign and update coefficients\n",
    "coefficients = model_2.coef_\n",
    "coefficients = coefficients.tolist()[0] # converts array into list\n",
    "\n",
    "# Plot bar graph\n",
    "plt.bar([1,2],coefficients)\n",
    "plt.xticks([1,2],['hours studied','math courses taken'])\n",
    "plt.xlabel('feature')\n",
    "plt.ylabel('coefficient')\n",
    "\n",
    "plt.show()"
   ]
  },
  {
   "cell_type": "markdown",
   "metadata": {},
   "source": [
    "# Tutorial (Titanic Kaggle)"
   ]
  },
  {
   "cell_type": "markdown",
   "metadata": {},
   "source": [
    "### Load the Data"
   ]
  },
  {
   "cell_type": "code",
   "execution_count": 23,
   "metadata": {},
   "outputs": [
    {
     "data": {
      "text/html": [
       "<div>\n",
       "<style scoped>\n",
       "    .dataframe tbody tr th:only-of-type {\n",
       "        vertical-align: middle;\n",
       "    }\n",
       "\n",
       "    .dataframe tbody tr th {\n",
       "        vertical-align: top;\n",
       "    }\n",
       "\n",
       "    .dataframe thead th {\n",
       "        text-align: right;\n",
       "    }\n",
       "</style>\n",
       "<table border=\"1\" class=\"dataframe\">\n",
       "  <thead>\n",
       "    <tr style=\"text-align: right;\">\n",
       "      <th></th>\n",
       "      <th>PassengerId</th>\n",
       "      <th>Survived</th>\n",
       "      <th>Pclass</th>\n",
       "      <th>Name</th>\n",
       "      <th>Sex</th>\n",
       "      <th>Age</th>\n",
       "      <th>SibSp</th>\n",
       "      <th>Parch</th>\n",
       "      <th>Ticket</th>\n",
       "      <th>Fare</th>\n",
       "      <th>Cabin</th>\n",
       "      <th>Embarked</th>\n",
       "      <th>FirstClass</th>\n",
       "      <th>SecondClass</th>\n",
       "    </tr>\n",
       "  </thead>\n",
       "  <tbody>\n",
       "    <tr>\n",
       "      <th>0</th>\n",
       "      <td>1</td>\n",
       "      <td>0</td>\n",
       "      <td>3</td>\n",
       "      <td>Braund, Mr. Owen Harris</td>\n",
       "      <td>0</td>\n",
       "      <td>22.0</td>\n",
       "      <td>1</td>\n",
       "      <td>0</td>\n",
       "      <td>A/5 21171</td>\n",
       "      <td>7.2500</td>\n",
       "      <td>NaN</td>\n",
       "      <td>S</td>\n",
       "      <td>0</td>\n",
       "      <td>0</td>\n",
       "    </tr>\n",
       "    <tr>\n",
       "      <th>1</th>\n",
       "      <td>2</td>\n",
       "      <td>1</td>\n",
       "      <td>1</td>\n",
       "      <td>Cumings, Mrs. John Bradley (Florence Briggs Th...</td>\n",
       "      <td>1</td>\n",
       "      <td>38.0</td>\n",
       "      <td>1</td>\n",
       "      <td>0</td>\n",
       "      <td>PC 17599</td>\n",
       "      <td>71.2833</td>\n",
       "      <td>C85</td>\n",
       "      <td>C</td>\n",
       "      <td>1</td>\n",
       "      <td>0</td>\n",
       "    </tr>\n",
       "    <tr>\n",
       "      <th>2</th>\n",
       "      <td>3</td>\n",
       "      <td>1</td>\n",
       "      <td>3</td>\n",
       "      <td>Heikkinen, Miss. Laina</td>\n",
       "      <td>1</td>\n",
       "      <td>26.0</td>\n",
       "      <td>0</td>\n",
       "      <td>0</td>\n",
       "      <td>STON/O2. 3101282</td>\n",
       "      <td>7.9250</td>\n",
       "      <td>NaN</td>\n",
       "      <td>S</td>\n",
       "      <td>0</td>\n",
       "      <td>0</td>\n",
       "    </tr>\n",
       "    <tr>\n",
       "      <th>3</th>\n",
       "      <td>4</td>\n",
       "      <td>1</td>\n",
       "      <td>1</td>\n",
       "      <td>Futrelle, Mrs. Jacques Heath (Lily May Peel)</td>\n",
       "      <td>1</td>\n",
       "      <td>35.0</td>\n",
       "      <td>1</td>\n",
       "      <td>0</td>\n",
       "      <td>113803</td>\n",
       "      <td>53.1000</td>\n",
       "      <td>C123</td>\n",
       "      <td>S</td>\n",
       "      <td>1</td>\n",
       "      <td>0</td>\n",
       "    </tr>\n",
       "    <tr>\n",
       "      <th>4</th>\n",
       "      <td>5</td>\n",
       "      <td>0</td>\n",
       "      <td>3</td>\n",
       "      <td>Allen, Mr. William Henry</td>\n",
       "      <td>0</td>\n",
       "      <td>35.0</td>\n",
       "      <td>0</td>\n",
       "      <td>0</td>\n",
       "      <td>373450</td>\n",
       "      <td>8.0500</td>\n",
       "      <td>NaN</td>\n",
       "      <td>S</td>\n",
       "      <td>0</td>\n",
       "      <td>0</td>\n",
       "    </tr>\n",
       "  </tbody>\n",
       "</table>\n",
       "</div>"
      ],
      "text/plain": [
       "   PassengerId  Survived  Pclass  \\\n",
       "0            1         0       3   \n",
       "1            2         1       1   \n",
       "2            3         1       3   \n",
       "3            4         1       1   \n",
       "4            5         0       3   \n",
       "\n",
       "                                                Name  Sex   Age  SibSp  Parch  \\\n",
       "0                            Braund, Mr. Owen Harris    0  22.0      1      0   \n",
       "1  Cumings, Mrs. John Bradley (Florence Briggs Th...    1  38.0      1      0   \n",
       "2                             Heikkinen, Miss. Laina    1  26.0      0      0   \n",
       "3       Futrelle, Mrs. Jacques Heath (Lily May Peel)    1  35.0      1      0   \n",
       "4                           Allen, Mr. William Henry    0  35.0      0      0   \n",
       "\n",
       "             Ticket     Fare Cabin Embarked  FirstClass  SecondClass  \n",
       "0         A/5 21171   7.2500   NaN        S           0            0  \n",
       "1          PC 17599  71.2833   C85        C           1            0  \n",
       "2  STON/O2. 3101282   7.9250   NaN        S           0            0  \n",
       "3            113803  53.1000  C123        S           1            0  \n",
       "4            373450   8.0500   NaN        S           0            0  "
      ]
     },
     "execution_count": 23,
     "metadata": {},
     "output_type": "execute_result"
    }
   ],
   "source": [
    "import pandas as pd\n",
    "import numpy as np\n",
    "import matplotlib.pyplot as plt\n",
    "from sklearn.linear_model import LogisticRegression\n",
    "from sklearn.model_selection import train_test_split\n",
    "from sklearn.preprocessing import StandardScaler\n",
    "\n",
    "# Load the passenger data\n",
    "passengers = pd.read_csv('train-1.csv')\n",
    "\n",
    "# Update sex column to numerical\n",
    "passengers['Sex'] = passengers['Sex'].map({'female' : 1, 'male' : 0})\n",
    "\n",
    "# Fill the nan values in the age column\n",
    "passengers['Age'].fillna(value=round(passengers['Age'].mean()),inplace=True)\n",
    "\n",
    "# Create a first class column\n",
    "passengers['FirstClass'] = passengers['Pclass'].apply(lambda x: 1 if x == 1 else 0)\n",
    "\n",
    "# Create a second class column\n",
    "passengers['SecondClass'] = passengers['Pclass'].apply(lambda x: 1 if x == 2 else 0)\n",
    "passengers.head()"
   ]
  },
  {
   "cell_type": "markdown",
   "metadata": {},
   "source": [
    "### Select and Split the Data"
   ]
  },
  {
   "cell_type": "code",
   "execution_count": 24,
   "metadata": {},
   "outputs": [],
   "source": [
    "# Select the desired features\n",
    "features = passengers[['Sex','Age','FirstClass', 'SecondClass']]\n",
    "survival = passengers['Survived']    \n",
    "\n",
    "# Perform train, test, split\n",
    "training_features, testing_features, \\\n",
    "training_labels, testing_labels = train_test_split(features, survival, test_size = 0.2)\n",
    "\n",
    "# Scale the feature data so it has mean = 0 and standard deviation = 1\n",
    "# this here is used for the regularization\n",
    "scaler = StandardScaler()\n",
    "training_features = scaler.fit_transform(training_features)\n",
    "testing_features = scaler.transform(testing_features)"
   ]
  },
  {
   "cell_type": "markdown",
   "metadata": {},
   "source": [
    "### Create and Evaluate the Model"
   ]
  },
  {
   "cell_type": "code",
   "execution_count": 25,
   "metadata": {},
   "outputs": [
    {
     "name": "stdout",
     "output_type": "stream",
     "text": [
      "0.797752808988764\n",
      "0.7988826815642458\n",
      "[[ 1.23982007 -0.4148703   0.98855855  0.47955304]]\n",
      "[('Sex', 1.2398200664506747), ('Age', -0.4148703010629653), ('FirstClass', 0.9885585489583253), ('SecondClass', 0.4795530387456342)]\n"
     ]
    }
   ],
   "source": [
    "# Create and train the model\n",
    "model = LogisticRegression()\n",
    "model.fit(training_features, training_labels)\n",
    "\n",
    "# Score the model on the train data\n",
    "print(model.score(training_features, training_labels))\n",
    "\n",
    "# Score the model on the test data\n",
    "print(model.score(testing_features, testing_labels))\n",
    "\n",
    "# Analyze the coefficients (of our chosen features)\n",
    "print(model.coef_)\n",
    "print(list(zip(['Sex','Age','FirstClass','SecondClass'],model.coef_[0])))"
   ]
  },
  {
   "cell_type": "markdown",
   "metadata": {},
   "source": [
    "### Predict with the Model"
   ]
  },
  {
   "cell_type": "code",
   "execution_count": 31,
   "metadata": {},
   "outputs": [
    {
     "name": "stdout",
     "output_type": "stream",
     "text": [
      "- sample_passengers: \n",
      " [[ 0. 20.  0.  0.]\n",
      " [ 1. 17.  1.  0.]\n",
      " [ 0. 26.  0.  1.]]\n",
      "- model.predict: \n",
      " [0 1 0]\n",
      "- model.predict_proba: \n",
      "[[0.89002423 0.10997577]\n",
      " [0.05336904 0.94663096]\n",
      " [0.74753108 0.25246892]]\n",
      "(1st col for sex and age ; 2nd col for class type)\n"
     ]
    }
   ],
   "source": [
    "# Sample passenger features\n",
    "Jack = np.array([0.0,20.0,0.0,0.0])\n",
    "Rose = np.array([1.0,17.0,1.0,0.0])\n",
    "You = np.array([0.0,26.0,0.0,1.0])\n",
    "\n",
    "# Combine passenger arrays\n",
    "sample_passengers = np.array([ Jack , Rose , You ])\n",
    "print(\"- sample_passengers: \\n\", sample_passengers)\n",
    "\n",
    "# Scale the sample passenger features\n",
    "sample_passengers = scaler.transform(sample_passengers)\n",
    "\n",
    "# Make survival predictions!\n",
    "print(\"- model.predict: \\n\", model.predict(sample_passengers))\n",
    "print(\"- model.predict_proba: \")\n",
    "print(model.predict_proba(sample_passengers))\n",
    "print(\"(1st col for sex and age ; 2nd col for class type)\")"
   ]
  },
  {
   "cell_type": "code",
   "execution_count": null,
   "metadata": {},
   "outputs": [],
   "source": []
  }
 ],
 "metadata": {
  "kernelspec": {
   "display_name": "Python 3",
   "language": "python",
   "name": "python3"
  },
  "language_info": {
   "codemirror_mode": {
    "name": "ipython",
    "version": 3
   },
   "file_extension": ".py",
   "mimetype": "text/x-python",
   "name": "python",
   "nbconvert_exporter": "python",
   "pygments_lexer": "ipython3",
   "version": "3.6.3"
  }
 },
 "nbformat": 4,
 "nbformat_minor": 2
}
